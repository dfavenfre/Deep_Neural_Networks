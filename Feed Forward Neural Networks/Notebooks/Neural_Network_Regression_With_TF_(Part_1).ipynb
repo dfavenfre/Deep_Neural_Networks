{
  "nbformat": 4,
  "nbformat_minor": 0,
  "metadata": {
    "colab": {
      "provenance": [],
      "toc_visible": true
    },
    "kernelspec": {
      "name": "python3",
      "display_name": "Python 3"
    },
    "language_info": {
      "name": "python"
    },
    "accelerator": "TPU",
    "gpuClass": "standard"
  },
  "cells": [
    {
      "cell_type": "markdown",
      "source": [
        "# Libraries 📚"
      ],
      "metadata": {
        "id": "p-kzG-35aoYK"
      }
    },
    {
      "cell_type": "code",
      "source": [
        "import tensorflow as tf\n",
        "import numpy as np\n",
        "import matplotlib.pyplot as plt\n",
        "from sklearn.model_selection import train_test_split\n",
        "import pandas as pd\n",
        "from tensorflow.keras.utils import plot_model"
      ],
      "metadata": {
        "id": "FKQsnuFnTlxF"
      },
      "execution_count": null,
      "outputs": []
    },
    {
      "cell_type": "markdown",
      "source": [
        "# Helper Functions\n"
      ],
      "metadata": {
        "id": "FiNZxSt3qb-u"
      }
    },
    {
      "cell_type": "code",
      "source": [
        "def plot_predictions(train_data, train_labels, test_data, test_labels, val_data, predictions):\n",
        "    \"\"\"\n",
        "    Plot the predicted values along with the actual training, test, and validation data.\n",
        "\n",
        "    Parameters:\n",
        "    train_data (numpy.array): Feature values of the training data.\n",
        "    train_labels (numpy.array): Target values of the training data.\n",
        "    test_data (numpy.array): Feature values of the test data.\n",
        "    test_labels (numpy.array): Target values of the test data.\n",
        "    val_data (numpy.array): Feature values of the validation data.\n",
        "    predictions (numpy.array): Predicted values for the validation data.\n",
        "\n",
        "    Returns:\n",
        "    None\n",
        "    \"\"\"\n",
        "\n",
        "    plt.figure(figsize=(10, 7))\n",
        "    plt.scatter(train_data, train_labels, c=\"b\", label=\"Training Data\")\n",
        "    plt.scatter(test_data, test_labels, c=\"g\", label=\"Test Data\")\n",
        "    plt.scatter(val_data, predictions, c=\"r\", label=\"Predictions\")\n",
        "    plt.legend()\n",
        "    plt.xlabel(\"Input Data\")\n",
        "    plt.ylabel(\"Output/Predictions\")\n",
        "    plt.title(\"Actual vs. Predicted Values\")\n",
        "    plt.show()\n",
        "\n",
        "def divide_to_sets(X: np.array, y: np.array, val_cut: float, test_cut: float):\n",
        "    \"\"\"\n",
        "    Divide the dataset into training, testing, and validation sets.\n",
        "\n",
        "    Parameters:\n",
        "    X (numpy.array): Feature values of the dataset.\n",
        "    y (numpy.array): Target values of the dataset.\n",
        "    val_cut (float): Proportion of data to be used for validation.\n",
        "    test_cut (float): Proportion of data to be used for testing.\n",
        "\n",
        "    Returns:\n",
        "    tuple: A tuple containing X_train, X_test, y_train, y_test, X_val, y_val.\n",
        "    \"\"\"\n",
        "\n",
        "    validation_size = int(len(X) * val_cut)\n",
        "    X_val = np.array(X[-validation_size:])\n",
        "    y_val = np.array(y[-validation_size:])\n",
        "    X_train, X_test, y_train, y_test = train_test_split(\n",
        "        np.array(X[:-validation_size]),\n",
        "        np.array(y[:-validation_size]),\n",
        "        test_size=test_cut,\n",
        "        shuffle=True\n",
        "    )\n",
        "\n",
        "    return X_train, X_test, y_train, y_test, X_val, y_val\n",
        "\n",
        "def evaluate_regression(y_true, y_pred):\n",
        "    \"\"\"\n",
        "    Evaluate the performance of a regression model using various metrics.\n",
        "\n",
        "    Parameters:\n",
        "    y_true (numpy.array): True target values.\n",
        "    y_pred (numpy.array): Predicted target values.\n",
        "\n",
        "    Returns:\n",
        "    pandas.DataFrame: A DataFrame containing metrics such as Mean Absolute Error (MAE),\n",
        "    Mean Squared Error (MSE), and Root Mean Squared Error (RMSE).\n",
        "    \"\"\"\n",
        "\n",
        "    mae = tf.metrics.mean_absolute_error(y_true, tf.squeeze(y_pred))\n",
        "    mse = tf.metrics.mean_squared_error(y_true, tf.squeeze(y_pred))\n",
        "    rmse = np.sqrt(mse)\n",
        "\n",
        "    metrics_dict = {\"mae\": mae.numpy(), \"mse\": mse.numpy(), \"rmse\": rmse}\n",
        "    metrics_df = pd.DataFrame(metrics_dict, index=[0])\n",
        "    return metrics_df"
      ],
      "metadata": {
        "id": "8KM6tRrdqghZ"
      },
      "execution_count": null,
      "outputs": []
    },
    {
      "cell_type": "markdown",
      "source": [
        "# Building A Regression Model With Tensorflow\n",
        "\n",
        "**Definition of Regression**:\n",
        "Regression analysis is a set of statistical processes for estimating the relationships between a dependent variable and one or more independent variable."
      ],
      "metadata": {
        "id": "h3Mj0ki7a7Cj"
      }
    },
    {
      "cell_type": "markdown",
      "source": [],
      "metadata": {
        "id": "avKHl-lubdCD"
      }
    },
    {
      "cell_type": "markdown",
      "source": [
        "# Architecture of Neural Network Design\n",
        "\n",
        "\n",
        "\n",
        "|Hyperparameters|Typical Value|\n",
        "|----|----|\n",
        "|Input Layer Shape|Same shape as number of features (e.g. 3 for # bedrooms, # car spaces in housing price prediction))\n",
        "|Neurons per hidden layer| Problem specific, generally 10 to 100|\n",
        "|Hidden Layers  | Problem specific, minimum=1, maximum=unlimited |\n",
        "|Output Layer Shape | Same Shape as desired prediction shape |\n",
        "| Hidden Activation|Usually ReLu |\n",
        "| Output Activation| None, Relu, Logistic/Tanh|\n",
        "| Loss function| MSE, MAE, Huber( combinaton of MAE/MSE) if outliers|\n",
        "| Optimizer| SGD, Adam|"
      ],
      "metadata": {
        "id": "b1zgbQ-FRipI"
      }
    },
    {
      "cell_type": "markdown",
      "source": [
        "# Model Building\n",
        "\n",
        "## Steps in modelling with TF\n",
        "1) Creating a model - define the input and output layers, as well as the hidden layers of a deep learning model.\n",
        "  \n",
        "2) Compiling a model - define the loss function and the optimizer and evaluation metrics.\n",
        "\n",
        "3) Fitting a model - letting the model try to find patterns between feature and target.\n",
        "\n",
        "\n",
        "\n",
        "**Important Note**:\n",
        "In November 2021, TensorFlow released [TensorFlow 2.7.0](https://github.com/tensorflow/tensorflow/releases/tag/v2.7.0).\n",
        "\n",
        "`model.fit()` no longer automatically upscales inputs from shape `(batch_size, )` to `(batch_size, 1)`.\n",
        "\n",
        "This results in a shape error (remember one of most common errors in deep learning is input and output shapes).\n",
        "\n",
        "To fix this, update the shape of feature data.\n",
        "\n",
        "`model.fit(tf.expand_dims(X, axis=-1), y, epochs=5)`"
      ],
      "metadata": {
        "id": "doXFaUEbcBEP"
      }
    },
    {
      "cell_type": "code",
      "source": [
        "# Create dummy data\n",
        "X = np.array(np.arange(-7,14,1))\n",
        "y = np.array(np.arange(0,21,1))\n",
        "\n",
        "print(X.shape, y.shape)"
      ],
      "metadata": {
        "colab": {
          "base_uri": "https://localhost:8080/"
        },
        "id": "nvVOhzfLfCps",
        "outputId": "7455f794-ccdd-49fc-ec3b-18d150c02c69"
      },
      "execution_count": null,
      "outputs": [
        {
          "output_type": "stream",
          "name": "stdout",
          "text": [
            "(21,) (21,)\n"
          ]
        }
      ]
    },
    {
      "cell_type": "markdown",
      "source": [
        "## Hyperparameter Definitions\n",
        "\n",
        "**Batch size**;\n",
        "\n",
        "1- Refers to the number of training examples used in one iteration of the model. In other words, it is the number of samples that are processed at once by the deep learning model during training. The batch size can be a hyperparameter that you can tune to improve the performance of your model.\n",
        "\n",
        "**Epochs**;\n",
        "\n",
        "1- An epoch refers to one complete pass through the entire training dataset during the training process. In other words, if you have a dataset with 10,000 samples and you set the batch size to 100, it will take 100 steps to complete one epoch\n",
        "\n",
        "**Optimizer**\n",
        "\n",
        "1- **[Adam Optimizer](https://www.geeksforgeeks.org/intuition-of-adam-optimizer/)** - This algorithm is used to accelerate the gradient descent algorithm by taking into consideration the ‘exponentially weighted average’ of the gradients. Using averages makes the algorithm converge towards the minima in a faster pace.\n",
        "\n",
        "![image.png](data:image/png;base64,iVBORw0KGgoAAAANSUhEUgAAAGwAAAAMCAYAAACHkliXAAADFElEQVRYCe2W2atPURTHP2QmMhQPClGGKzOZM2coyUUJmfPAA2VIxkwpipRMSSgl4j5disKLIfkLyIMHLxL+A32vtbQ6nfP7/e7vnOuX+q06Z6+19t5r773W2uu7oU51D9Q90LYeaA+cBh4AS20p6W4bPwL4DLRr223kst4ZOAs0A5PNUnfgsvGzgbe5Vqh88n7gEnAUOBD81s9MyK/ay2jgGHAIuA/0Mvk88BTokbXkWjvkTltE4yYCr2xCN+Ar0CnLQIX6QWXGzQGOl/nkhDTS3ocAZ4CtNmA5cM/4AcCntIkF65T4ShJP7pPADqAjoP0MB8ZaQBUkD8p14DHQx/YjG41ZextnHc+AacbvBY6ECQcDrwyaGmRnZwA9XQjtOrvBV4OuaNbP8BEYaMYvAJvDQvEMugE+LgxpYaVX8pT63LFx7jDgO6AEd1oD3AIWml7BEr0LlUCyfL/oT1fL/4mt7yoF9o4LavsCX0JmNAGzwoD1gX8JqNwkaQMwOKk0WSXpWkZfUeqRwPtgTLyc6BTPoD6/Bd7vbbUB222lze2oVRBeA9uCUr77BXQwneDnZ7htCs6PROAFVSeCDVYDN4PiG9DVZJWTBUBvYBnwwaKfLJF5A6bboGQo9T0Pe0yycpgfSpimbHdSiRcW9wcEAS8SGezj8rTnDIOiDflN+K/9OCmIwlqn8RZUl5VYd01oACYAD4FdwFAfNA+4YoKwRgHzgGwClAUibUDgnkZ5A5ZmszU6rX/YJkxJYNaWYGijHT6oCmFV9tyHMiifrbRyp9sk/BIpqfYYr0al+lSQZWMVMDNULJVQv5F/h2qSAidwnG7gvThG1R4E/pLURAGqPxQeAReDHGvyvyiJAnaBvJLKzyEMWQKoSjjdAMa4UHC7AtCnSuSvVT2EpOtia+ltMCqsu89uv6v0eNKeVeJFmqeqUxUJDPWwSDtwrW9YpQd6Y9mvcvM/0Fy7gcLcVu9ZOCc8mJRy0qyAKVO22+3Ty6vWJHxQyYxZXus9lVpf/hYMzU8ri6UmlutTvY6lp9z4en8VHvgN1TZ8k3V2osgAAAAASUVORK5CYII=)\n",
        "\n",
        "Where,\n",
        "\n",
        "![image.png](data:image/png;base64,iVBORw0KGgoAAAANSUhEUgAAALIAAAAaCAYAAAATxQbrAAAGe0lEQVR4Ae2cV6hlNRSGP3vvvfcuioqKvXfEgr1jb2B9EAsIdgW72Aui2BA7liexg1geVFD0RQRRH8V3+ZxkWGSyz953zj4z9457wZmdupKs/FlZWckdGGiQQD8SuA/4HPgQuKsflnNwuSbxt42X5sgdEgYJ9CCB+4H1euDThcUiwCtdCg5lBglMVQIDkKcqsaH8tJRAVyBvAhwBnB9GsRKwb/rtE9KbgoNGbpLMkD62BLoC+czU0k5Fi5cDdxRpTdEByE2SmSbpTtCK06QvdmNRYNmO/ekK5EuAwyo8XwQOraTXkmYskJcB9gdcxavXRrYApC0JPAAsPZ/GIjj2BHYGNg19uKLj4uoCZE0ITYofgfVDGwb/BJYo0pqiMxLImwNXA0ulUT0FOJAFjZ4EtikGtQfwPJC34yK7t6iyvQlYK3G8HtgshV1YT3RoqQ3ItvEqsBhwI3Bl4Lkt8FmItwVnJJDjgB2gwshCbhvw/Mw/aQqNO5HPFeVdwHsB7wBnFXl9Ry8qtOFlwDmhkQvTAS0kzRFsA/K5gefxgJo+06XAzTmSvu4OTTTjgKwpsWMYzZppW3JVT3d6cAodvCeBtlblrQkDWVlGjS9IvgS2CJ1ZDng9xGvBNiAL3INSxeuA7QMTeR8Y4i7gaN6ErP+CVSAvDJwAKEzttAOAvYFbUvwo4BDgqpLbPIhrT9mn3QEH/z6wQ2p3ZeDEtE0Z1n1zcFrpK6Qx6eaJkzQPujy7iakA+Ye05c6uHAKTBrLgWjeB7GLgTaC2m3zcYtK1Adk5ElPOyXFhfJoZ/wB3prm8Dfgo5NeCVSA7+aumKz+ZZm33HnB7ApLM3ga2rnFtSDs9XCd6pVj7PdtQNye7HUneGKmZn0kHPtNOBhYCfkqgnVUSfgcuyBHg5zCmkDzlYHk4aWPQFciLA9+OYDZpIGcZq3XVhCoPXWEladJFLV3mtwG5LD9OvArkrOKdcLfuTJ4sY8fVGvEK0rLaVpMiNfFpBfNT0qHEZPuta+g3wF1F0rvxd9AcHlT+SoBPRdgFODxHOnw9gGkjuhCbyHayQz9/X6ukqTBKWqNFA7UBWTnlNpu+2ttNlIGc89dpGOujwKjLihqQxYuyHvdX9r8KZAewdrI982AU+B85AmwIfBfiBtV68UBQZI8d1Way3Ui259aTyW3qhRxJZpHmRybNolLrOyHR7s5lR311+U0KyPJ2226iSQLZBahyiCRoah4E5bZfLFiEpwWQzwDsaCYBEAFybbCZNcK1WT8FjgVcwTXyJFozJ2LaG7WKKU2buCS1nH7OTHcnbZnjmka+kMr0MuAJeYPkC1VjaYrok9aO7kptQK7x6WpaqF2+qTFIaW1AHlG1NUtlUd6weSjTa1GSj3TiDl3m14Ccy3jJ41w93rIYcvm2b6NG1vZ0wjM9XNyFax/vChwDaEtpm36fC0/o63VlFLKLK9q+NqttGV1xPiPUdMj0azI/somyUYfTd64bv5MEsu18Fcyj2K7hD4q5KPPHiZ8NnBoYCNR7C1MsZ389oo+WGQVkFcmRmVEP30Yg3wosHxpw+9Z2yySg3IIySIyXW3Yu28fXLc9F4+LxUsC+KIySHioSXPHZXjZL8B8N+FBF0jSJfmn9t2rx2i+aH5MGsif22J59ddF5ELdvakh3k67XxbNG2/6vC3zL5KXyzLNVQxXnw51hFI0CsvWsX5qKo/iNymsE8qhKtTzdNOclYdcAVqszlTRdQl5n9k2PJdNkt+CN6dLG3ABZ12BX2ji5P7uW76Oc18Gahl3IhRR37FqdUUDOCuSTVFEFonmnuSHpKXHO3V27PJjvDchuE2pk/c+ToJofs492tLvdfdR0XUkt4u7gzZtaUe00CXIXjF6hSbQReSqDLsrCg7+mZRs1AfmGcCv4S3pq4DnHg6NvS6R3wxua7PrTt63fuUa9AbnGvM+0eTmhffZ7HF76k524rg9nxmnLul394o8Aq3VorAnIX4S60Rvimxm1spQ1tQD1BZy7vLLw4L5KKhM/MwbIsdP/p7AT1LcdPK78uiqVJiBnz5T++HimUcvrOPD84mWLpBfFNMlHVE2LegByEtLw6V8CTUDeLt3C+sTB982ZXCCaapqn+VAe3XtPp/JebZc0ALmUyBDvTQJNQJ7bBvyrbA+j+flu5DMAOUpjCPcqgb6BPKpzA5BHSWfIG0sCA5DHEt9QebpIYL7+By3/AkaN/8LkmglVAAAAAElFTkSuQmCC)\n",
        "\n",
        "\n",
        "\n",
        "```\n",
        "mt = aggregate of gradients at time t [current] (initially, mt = 0)\n",
        "mt-1 = aggregate of gradients at time t-1 [previous]\n",
        "Wt = weights at time t\n",
        "Wt+1 = weights at time t+1\n",
        "αt = learning rate at time t\n",
        "∂L = derivative of Loss Function\n",
        "∂Wt = derivative of weights at time t\n",
        "β = Moving average parameter (const, 0.9)\n",
        "```"
      ],
      "metadata": {
        "id": "xPVagsbwlQ5L"
      }
    },
    {
      "cell_type": "markdown",
      "source": [
        "## Model 1"
      ],
      "metadata": {
        "id": "-PAbEf-rzxAu"
      }
    },
    {
      "cell_type": "code",
      "source": [
        "tf.random.set_seed(42)\n",
        "# Modelling with the Sequential API\n",
        "model = tf.keras.Sequential([\n",
        "    tf.keras.layers.Dense(1)])\n",
        "# Compile\n",
        "model.compile(loss=tf.keras.losses.mae,\n",
        "              optimizer=tf.keras.optimizers.SGD(),\n",
        "              metrics=tf.keras.metrics.RootMeanSquaredError())\n",
        "# Fit the model\n",
        "model_1_history = model.fit(tf.expand_dims(X, axis=-1),y,\n",
        "          epochs=32,\n",
        "          batch_size=1,\n",
        "          verbose=2)"
      ],
      "metadata": {
        "id": "C9jw2qUFd9Pj"
      },
      "execution_count": null,
      "outputs": []
    },
    {
      "cell_type": "markdown",
      "source": [
        "## Model Evaluation"
      ],
      "metadata": {
        "id": "3bseY1Cwm1NR"
      }
    },
    {
      "cell_type": "code",
      "source": [
        "model_1_pred = model.predict(tf.expand_dims(X[1], axis=-1))\n",
        "print(f\"Actual Value: {y[1]} \\nPredicted Value: {round(float(model_1_pred[0][0]),2)}\")"
      ],
      "metadata": {
        "colab": {
          "base_uri": "https://localhost:8080/"
        },
        "id": "gM_MIx94lzeS",
        "outputId": "9fcd129f-312d-4691-8d51-2436555a206c"
      },
      "execution_count": null,
      "outputs": [
        {
          "output_type": "stream",
          "name": "stdout",
          "text": [
            "1/1 [==============================] - 0s 83ms/step\n",
            "Actual Value: 1 \n",
            "Predicted Value: -1.92\n"
          ]
        }
      ]
    },
    {
      "cell_type": "markdown",
      "source": [
        "# Improving The Model\n",
        "\n",
        "We can improve the model by altering the steps it took to create this model.\n",
        "\n",
        "1. **Creating a model** - here we might add more layers, increase the number of hidden units within each of the hidden layers, change the activation function of each layer.\n",
        "2. **Compiling a model** - here we might change the otpimization function or perhaps the **learning rate** of the optimization function.\n",
        "3. **Fitting a model** - here me might fit a model for more **epochs** or on more data\n",
        "\n",
        "\n",
        "**Common ways to improve a deep model**:\n",
        "* Adding layers\n",
        "* Increase the number of hidden units\n",
        "* Change the activation functions\n",
        "* Change the optimization function\n",
        "* Change the learning rate\n",
        "* Fitting on more data\n",
        "* Increase number of epochs"
      ],
      "metadata": {
        "id": "qGEiSMWLm_TM"
      }
    },
    {
      "cell_type": "markdown",
      "source": [
        "## Model 2"
      ],
      "metadata": {
        "id": "qEaLIP2Szt3j"
      }
    },
    {
      "cell_type": "code",
      "source": [
        "# Create the model\n",
        "model_2 = tf.keras.Sequential([\n",
        "    tf.keras.layers.Dense(100, activation=\"relu\"),\n",
        "    tf.keras.layers.Dense(100, activation=\"relu\"),\n",
        "    tf.keras.layers.Dense(100, activation=\"relu\"),\n",
        "    tf.keras.layers.Dense(1)\n",
        "])\n",
        "# Compile the model\n",
        "model_2.compile(optimizer=tf.keras.optimizers.Adam(learning_rate=0.0001),\n",
        "                loss=tf.keras.losses.mae,\n",
        "                metrics=[\"mae\"])\n",
        "# Fit the model\n",
        "model_2.fit(tf.expand_dims(X, axis=-1), y,\n",
        "            epochs=128,\n",
        "            batch_size=1,\n",
        "            verbose=1)"
      ],
      "metadata": {
        "colab": {
          "base_uri": "https://localhost:8080/"
        },
        "id": "FN4ozwd5nF64",
        "outputId": "fb403df7-5103-4de3-b691-12554cd16852"
      },
      "execution_count": null,
      "outputs": [
        {
          "output_type": "stream",
          "name": "stdout",
          "text": [
            "Epoch 1/128\n",
            "21/21 [==============================] - 1s 3ms/step - loss: 9.7104 - mae: 9.7104\n",
            "Epoch 2/128\n",
            "21/21 [==============================] - 0s 2ms/step - loss: 9.3614 - mae: 9.3614\n",
            "Epoch 3/128\n",
            "21/21 [==============================] - 0s 2ms/step - loss: 9.0176 - mae: 9.0176\n",
            "Epoch 4/128\n",
            "21/21 [==============================] - 0s 2ms/step - loss: 8.6649 - mae: 8.6649\n",
            "Epoch 5/128\n",
            "21/21 [==============================] - 0s 3ms/step - loss: 8.2957 - mae: 8.2957\n",
            "Epoch 6/128\n",
            "21/21 [==============================] - 0s 2ms/step - loss: 7.8565 - mae: 7.8565\n",
            "Epoch 7/128\n",
            "21/21 [==============================] - 0s 2ms/step - loss: 7.3849 - mae: 7.3849\n",
            "Epoch 8/128\n",
            "21/21 [==============================] - 0s 2ms/step - loss: 6.8185 - mae: 6.8185\n",
            "Epoch 9/128\n",
            "21/21 [==============================] - 0s 2ms/step - loss: 6.2493 - mae: 6.2493\n",
            "Epoch 10/128\n",
            "21/21 [==============================] - 0s 2ms/step - loss: 5.5000 - mae: 5.5000\n",
            "Epoch 11/128\n",
            "21/21 [==============================] - 0s 2ms/step - loss: 4.6718 - mae: 4.6718\n",
            "Epoch 12/128\n",
            "21/21 [==============================] - 0s 2ms/step - loss: 3.7907 - mae: 3.7907\n",
            "Epoch 13/128\n",
            "21/21 [==============================] - 0s 3ms/step - loss: 2.7972 - mae: 2.7972\n",
            "Epoch 14/128\n",
            "21/21 [==============================] - 0s 2ms/step - loss: 2.7132 - mae: 2.7132\n",
            "Epoch 15/128\n",
            "21/21 [==============================] - 0s 2ms/step - loss: 2.6466 - mae: 2.6466\n",
            "Epoch 16/128\n",
            "21/21 [==============================] - 0s 2ms/step - loss: 2.6642 - mae: 2.6642\n",
            "Epoch 17/128\n",
            "21/21 [==============================] - 0s 2ms/step - loss: 2.6523 - mae: 2.6523\n",
            "Epoch 18/128\n",
            "21/21 [==============================] - 0s 2ms/step - loss: 2.6151 - mae: 2.6151\n",
            "Epoch 19/128\n",
            "21/21 [==============================] - 0s 2ms/step - loss: 2.6327 - mae: 2.6327\n",
            "Epoch 20/128\n",
            "21/21 [==============================] - 0s 3ms/step - loss: 2.6357 - mae: 2.6357\n",
            "Epoch 21/128\n",
            "21/21 [==============================] - 0s 2ms/step - loss: 2.6047 - mae: 2.6047\n",
            "Epoch 22/128\n",
            "21/21 [==============================] - 0s 2ms/step - loss: 2.5786 - mae: 2.5786\n",
            "Epoch 23/128\n",
            "21/21 [==============================] - 0s 2ms/step - loss: 2.5533 - mae: 2.5533\n",
            "Epoch 24/128\n",
            "21/21 [==============================] - 0s 2ms/step - loss: 2.5505 - mae: 2.5505\n",
            "Epoch 25/128\n",
            "21/21 [==============================] - 0s 2ms/step - loss: 2.5464 - mae: 2.5464\n",
            "Epoch 26/128\n",
            "21/21 [==============================] - 0s 2ms/step - loss: 2.5578 - mae: 2.5578\n",
            "Epoch 27/128\n",
            "21/21 [==============================] - 0s 2ms/step - loss: 2.5417 - mae: 2.5417\n",
            "Epoch 28/128\n",
            "21/21 [==============================] - 0s 2ms/step - loss: 2.4974 - mae: 2.4974\n",
            "Epoch 29/128\n",
            "21/21 [==============================] - 0s 2ms/step - loss: 2.5043 - mae: 2.5043\n",
            "Epoch 30/128\n",
            "21/21 [==============================] - 0s 2ms/step - loss: 2.4624 - mae: 2.4624\n",
            "Epoch 31/128\n",
            "21/21 [==============================] - 0s 2ms/step - loss: 2.4472 - mae: 2.4472\n",
            "Epoch 32/128\n",
            "21/21 [==============================] - 0s 2ms/step - loss: 2.4661 - mae: 2.4661\n",
            "Epoch 33/128\n",
            "21/21 [==============================] - 0s 2ms/step - loss: 2.4371 - mae: 2.4371\n",
            "Epoch 34/128\n",
            "21/21 [==============================] - 0s 2ms/step - loss: 2.4071 - mae: 2.4071\n",
            "Epoch 35/128\n",
            "21/21 [==============================] - 0s 2ms/step - loss: 2.3936 - mae: 2.3936\n",
            "Epoch 36/128\n",
            "21/21 [==============================] - 0s 2ms/step - loss: 2.4234 - mae: 2.4234\n",
            "Epoch 37/128\n",
            "21/21 [==============================] - 0s 2ms/step - loss: 2.3525 - mae: 2.3525\n",
            "Epoch 38/128\n",
            "21/21 [==============================] - 0s 2ms/step - loss: 2.3791 - mae: 2.3791\n",
            "Epoch 39/128\n",
            "21/21 [==============================] - 0s 2ms/step - loss: 2.3428 - mae: 2.3428\n",
            "Epoch 40/128\n",
            "21/21 [==============================] - 0s 2ms/step - loss: 2.2998 - mae: 2.2998\n",
            "Epoch 41/128\n",
            "21/21 [==============================] - 0s 2ms/step - loss: 2.2908 - mae: 2.2908\n",
            "Epoch 42/128\n",
            "21/21 [==============================] - 0s 2ms/step - loss: 2.2907 - mae: 2.2907\n",
            "Epoch 43/128\n",
            "21/21 [==============================] - 0s 3ms/step - loss: 2.2684 - mae: 2.2684\n",
            "Epoch 44/128\n",
            "21/21 [==============================] - 0s 2ms/step - loss: 2.3054 - mae: 2.3054\n",
            "Epoch 45/128\n",
            "21/21 [==============================] - 0s 2ms/step - loss: 2.2547 - mae: 2.2547\n",
            "Epoch 46/128\n",
            "21/21 [==============================] - 0s 2ms/step - loss: 2.2049 - mae: 2.2049\n",
            "Epoch 47/128\n",
            "21/21 [==============================] - 0s 2ms/step - loss: 2.1748 - mae: 2.1748\n",
            "Epoch 48/128\n",
            "21/21 [==============================] - 0s 2ms/step - loss: 2.1666 - mae: 2.1666\n",
            "Epoch 49/128\n",
            "21/21 [==============================] - 0s 2ms/step - loss: 2.1479 - mae: 2.1479\n",
            "Epoch 50/128\n",
            "21/21 [==============================] - 0s 2ms/step - loss: 2.1380 - mae: 2.1380\n",
            "Epoch 51/128\n",
            "21/21 [==============================] - 0s 2ms/step - loss: 2.1860 - mae: 2.1860\n",
            "Epoch 52/128\n",
            "21/21 [==============================] - 0s 2ms/step - loss: 2.1053 - mae: 2.1053\n",
            "Epoch 53/128\n",
            "21/21 [==============================] - 0s 2ms/step - loss: 2.1265 - mae: 2.1265\n",
            "Epoch 54/128\n",
            "21/21 [==============================] - 0s 2ms/step - loss: 2.0442 - mae: 2.0442\n",
            "Epoch 55/128\n",
            "21/21 [==============================] - 0s 2ms/step - loss: 2.0313 - mae: 2.0313\n",
            "Epoch 56/128\n",
            "21/21 [==============================] - 0s 2ms/step - loss: 2.0317 - mae: 2.0317\n",
            "Epoch 57/128\n",
            "21/21 [==============================] - 0s 2ms/step - loss: 1.9876 - mae: 1.9876\n",
            "Epoch 58/128\n",
            "21/21 [==============================] - 0s 2ms/step - loss: 1.9425 - mae: 1.9425\n",
            "Epoch 59/128\n",
            "21/21 [==============================] - 0s 2ms/step - loss: 1.9181 - mae: 1.9181\n",
            "Epoch 60/128\n",
            "21/21 [==============================] - 0s 2ms/step - loss: 1.9113 - mae: 1.9113\n",
            "Epoch 61/128\n",
            "21/21 [==============================] - 0s 2ms/step - loss: 1.8958 - mae: 1.8958\n",
            "Epoch 62/128\n",
            "21/21 [==============================] - 0s 2ms/step - loss: 1.8664 - mae: 1.8664\n",
            "Epoch 63/128\n",
            "21/21 [==============================] - 0s 2ms/step - loss: 1.8154 - mae: 1.8154\n",
            "Epoch 64/128\n",
            "21/21 [==============================] - 0s 2ms/step - loss: 1.7803 - mae: 1.7803\n",
            "Epoch 65/128\n",
            "21/21 [==============================] - 0s 3ms/step - loss: 1.7605 - mae: 1.7605\n",
            "Epoch 66/128\n",
            "21/21 [==============================] - 0s 3ms/step - loss: 1.7352 - mae: 1.7352\n",
            "Epoch 67/128\n",
            "21/21 [==============================] - 0s 3ms/step - loss: 1.7193 - mae: 1.7193\n",
            "Epoch 68/128\n",
            "21/21 [==============================] - 0s 3ms/step - loss: 1.6704 - mae: 1.6704\n",
            "Epoch 69/128\n",
            "21/21 [==============================] - 0s 3ms/step - loss: 1.6268 - mae: 1.6268\n",
            "Epoch 70/128\n",
            "21/21 [==============================] - 0s 3ms/step - loss: 1.5927 - mae: 1.5927\n",
            "Epoch 71/128\n",
            "21/21 [==============================] - 0s 4ms/step - loss: 1.5731 - mae: 1.5731\n",
            "Epoch 72/128\n",
            "21/21 [==============================] - 0s 4ms/step - loss: 1.5757 - mae: 1.5757\n",
            "Epoch 73/128\n",
            "21/21 [==============================] - 0s 3ms/step - loss: 1.5200 - mae: 1.5200\n",
            "Epoch 74/128\n",
            "21/21 [==============================] - 0s 3ms/step - loss: 1.4597 - mae: 1.4597\n",
            "Epoch 75/128\n",
            "21/21 [==============================] - 0s 3ms/step - loss: 1.4399 - mae: 1.4399\n",
            "Epoch 76/128\n",
            "21/21 [==============================] - 0s 4ms/step - loss: 1.3768 - mae: 1.3768\n",
            "Epoch 77/128\n",
            "21/21 [==============================] - 0s 3ms/step - loss: 1.3481 - mae: 1.3481\n",
            "Epoch 78/128\n",
            "21/21 [==============================] - 0s 3ms/step - loss: 1.3749 - mae: 1.3749\n",
            "Epoch 79/128\n",
            "21/21 [==============================] - 0s 3ms/step - loss: 1.2726 - mae: 1.2726\n",
            "Epoch 80/128\n",
            "21/21 [==============================] - 0s 3ms/step - loss: 1.2183 - mae: 1.2183\n",
            "Epoch 81/128\n",
            "21/21 [==============================] - 0s 3ms/step - loss: 1.2064 - mae: 1.2064\n",
            "Epoch 82/128\n",
            "21/21 [==============================] - 0s 3ms/step - loss: 1.1722 - mae: 1.1722\n",
            "Epoch 83/128\n",
            "21/21 [==============================] - 0s 3ms/step - loss: 1.1601 - mae: 1.1601\n",
            "Epoch 84/128\n",
            "21/21 [==============================] - 0s 3ms/step - loss: 1.0229 - mae: 1.0229\n",
            "Epoch 85/128\n",
            "21/21 [==============================] - 0s 3ms/step - loss: 0.9690 - mae: 0.9690\n",
            "Epoch 86/128\n",
            "21/21 [==============================] - 0s 3ms/step - loss: 0.9803 - mae: 0.9803\n",
            "Epoch 87/128\n",
            "21/21 [==============================] - 0s 4ms/step - loss: 0.9496 - mae: 0.9496\n",
            "Epoch 88/128\n",
            "21/21 [==============================] - 0s 3ms/step - loss: 0.9477 - mae: 0.9477\n",
            "Epoch 89/128\n",
            "21/21 [==============================] - 0s 3ms/step - loss: 0.7849 - mae: 0.7849\n",
            "Epoch 90/128\n",
            "21/21 [==============================] - 0s 4ms/step - loss: 0.7820 - mae: 0.7820\n",
            "Epoch 91/128\n",
            "21/21 [==============================] - 0s 3ms/step - loss: 0.8565 - mae: 0.8565\n",
            "Epoch 92/128\n",
            "21/21 [==============================] - 0s 3ms/step - loss: 0.6339 - mae: 0.6339\n",
            "Epoch 93/128\n",
            "21/21 [==============================] - 0s 3ms/step - loss: 0.6289 - mae: 0.6289\n",
            "Epoch 94/128\n",
            "21/21 [==============================] - 0s 3ms/step - loss: 0.5066 - mae: 0.5066\n",
            "Epoch 95/128\n",
            "21/21 [==============================] - 0s 3ms/step - loss: 0.4379 - mae: 0.4379\n",
            "Epoch 96/128\n",
            "21/21 [==============================] - 0s 3ms/step - loss: 0.4028 - mae: 0.4028\n",
            "Epoch 97/128\n",
            "21/21 [==============================] - 0s 3ms/step - loss: 0.3596 - mae: 0.3596\n",
            "Epoch 98/128\n",
            "21/21 [==============================] - 0s 3ms/step - loss: 0.2833 - mae: 0.2833\n",
            "Epoch 99/128\n",
            "21/21 [==============================] - 0s 3ms/step - loss: 0.2362 - mae: 0.2362\n",
            "Epoch 100/128\n",
            "21/21 [==============================] - 0s 3ms/step - loss: 0.1942 - mae: 0.1942\n",
            "Epoch 101/128\n",
            "21/21 [==============================] - 0s 3ms/step - loss: 0.1681 - mae: 0.1681\n",
            "Epoch 102/128\n",
            "21/21 [==============================] - 0s 3ms/step - loss: 0.1171 - mae: 0.1171\n",
            "Epoch 103/128\n",
            "21/21 [==============================] - 0s 4ms/step - loss: 0.1520 - mae: 0.1520\n",
            "Epoch 104/128\n",
            "21/21 [==============================] - 0s 3ms/step - loss: 0.2472 - mae: 0.2472\n",
            "Epoch 105/128\n",
            "21/21 [==============================] - 0s 3ms/step - loss: 0.1994 - mae: 0.1994\n",
            "Epoch 106/128\n",
            "21/21 [==============================] - 0s 3ms/step - loss: 0.1454 - mae: 0.1454\n",
            "Epoch 107/128\n",
            "21/21 [==============================] - 0s 3ms/step - loss: 0.1665 - mae: 0.1665\n",
            "Epoch 108/128\n",
            "21/21 [==============================] - 0s 3ms/step - loss: 0.1306 - mae: 0.1306\n",
            "Epoch 109/128\n",
            "21/21 [==============================] - 0s 4ms/step - loss: 0.0807 - mae: 0.0807\n",
            "Epoch 110/128\n",
            "21/21 [==============================] - 0s 3ms/step - loss: 0.0840 - mae: 0.0840\n",
            "Epoch 111/128\n",
            "21/21 [==============================] - 0s 3ms/step - loss: 0.1522 - mae: 0.1522\n",
            "Epoch 112/128\n",
            "21/21 [==============================] - 0s 3ms/step - loss: 0.1334 - mae: 0.1334\n",
            "Epoch 113/128\n",
            "21/21 [==============================] - 0s 3ms/step - loss: 0.0905 - mae: 0.0905\n",
            "Epoch 114/128\n",
            "21/21 [==============================] - 0s 3ms/step - loss: 0.0784 - mae: 0.0784\n",
            "Epoch 115/128\n",
            "21/21 [==============================] - 0s 3ms/step - loss: 0.1195 - mae: 0.1195\n",
            "Epoch 116/128\n",
            "21/21 [==============================] - 0s 3ms/step - loss: 0.1275 - mae: 0.1275\n",
            "Epoch 117/128\n",
            "21/21 [==============================] - 0s 3ms/step - loss: 0.1168 - mae: 0.1168\n",
            "Epoch 118/128\n",
            "21/21 [==============================] - 0s 4ms/step - loss: 0.1333 - mae: 0.1333\n",
            "Epoch 119/128\n",
            "21/21 [==============================] - 0s 4ms/step - loss: 0.1054 - mae: 0.1054\n",
            "Epoch 120/128\n",
            "21/21 [==============================] - 0s 4ms/step - loss: 0.1178 - mae: 0.1178\n",
            "Epoch 121/128\n",
            "21/21 [==============================] - 0s 3ms/step - loss: 0.1121 - mae: 0.1121\n",
            "Epoch 122/128\n",
            "21/21 [==============================] - 0s 3ms/step - loss: 0.1009 - mae: 0.1009\n",
            "Epoch 123/128\n",
            "21/21 [==============================] - 0s 4ms/step - loss: 0.0590 - mae: 0.0590\n",
            "Epoch 124/128\n",
            "21/21 [==============================] - 0s 3ms/step - loss: 0.0938 - mae: 0.0938\n",
            "Epoch 125/128\n",
            "21/21 [==============================] - 0s 3ms/step - loss: 0.1020 - mae: 0.1020\n",
            "Epoch 126/128\n",
            "21/21 [==============================] - 0s 3ms/step - loss: 0.0725 - mae: 0.0725\n",
            "Epoch 127/128\n",
            "21/21 [==============================] - 0s 3ms/step - loss: 0.1181 - mae: 0.1181\n",
            "Epoch 128/128\n",
            "21/21 [==============================] - 0s 3ms/step - loss: 0.0732 - mae: 0.0732\n"
          ]
        },
        {
          "output_type": "execute_result",
          "data": {
            "text/plain": [
              "<keras.callbacks.History at 0x7f3baae8db70>"
            ]
          },
          "metadata": {},
          "execution_count": 85
        }
      ]
    },
    {
      "cell_type": "markdown",
      "source": [
        "## Model 2 Evaluation"
      ],
      "metadata": {
        "id": "DwFAquIDqqWm"
      }
    },
    {
      "cell_type": "code",
      "source": [
        "model_2_pred = model_2.predict(tf.expand_dims(X[1], axis=-1))\n",
        "print(f\"Actual Value: {y[1]} \\nPredicted Value: {round(float(model_2_pred[0][0]),2)}\")"
      ],
      "metadata": {
        "colab": {
          "base_uri": "https://localhost:8080/"
        },
        "id": "f0rKL1HTqr6t",
        "outputId": "4f0f2204-ea43-4ddb-8cd2-6960849be44f"
      },
      "execution_count": null,
      "outputs": [
        {
          "output_type": "stream",
          "name": "stdout",
          "text": [
            "1/1 [==============================] - 0s 68ms/step\n",
            "Actual Value: 1 \n",
            "Predicted Value: 0.93\n"
          ]
        }
      ]
    },
    {
      "cell_type": "markdown",
      "source": [
        "# Evaluating the model\n",
        "\n",
        "In practice, a typical workfow you'll go through when building a neural network is:\n",
        "---\n",
        "\n",
        "```\n",
        "Build a model -> fit it -> evaluate it -> tweak a model -> fit it -> evaluate it -> tweak a model -> fit it -> evaluate it...\n",
        "```\n",
        "\n",
        "---\n",
        "\n",
        "However, before building a model, it has utmost importance to split data into three sets:\n",
        "  1- Training\n",
        "  2- Testing\n",
        "  3- Validation\n",
        "\n",
        "During the modelling, the model will be using both training set to understand the patterns between features and target, and test set to analyze how much error it makes during the training and then you make adjustments (hyperparameter-tuning) accordingly.\n",
        "\n",
        "However, this method might cause data leakage (poor generalization due to memorizing the given patterns by the model). In order to prevent data leakage, we might set aside a smaller proportion of data (around 10-15%) as validation (unseen to the model) and use the remaining for training and testing.\n",
        "\n",
        "With this method, we can test out whether the model is overfitting or not.\n"
      ],
      "metadata": {
        "id": "-d4mi0pJ1z5W"
      }
    },
    {
      "cell_type": "code",
      "source": [
        "X = tf.range(-100, 300,4)\n",
        "y = tf.range(0,400,4)\n",
        "plt.plot(X,y);plt.title(\"Demo Data\");"
      ],
      "metadata": {
        "colab": {
          "base_uri": "https://localhost:8080/",
          "height": 452
        },
        "id": "DQ0g6PrQ5bjc",
        "outputId": "4a950360-b06b-4382-ed50-5e4c58e2b221"
      },
      "execution_count": null,
      "outputs": [
        {
          "output_type": "display_data",
          "data": {
            "text/plain": [
              "<Figure size 640x480 with 1 Axes>"
            ],
            "image/png": "[encoded data removed]"
          },
          "metadata": {}
        }
      ]
    },
    {
      "cell_type": "code",
      "source": [
        "def divide_to_sets(X: np.array, y: np.array, val_cut: float, test_cut: float):\n",
        "    validation_size = int(len(X) * val_cut)\n",
        "    X_val = np.array(X[-validation_size:])\n",
        "    y_val = np.array(y[-validation_size:])\n",
        "    X_train, X_test, y_train, y_test = train_test_split(np.array(X[:-validation_size]),\n",
        "                                                        np.array(y[:-validation_size]),\n",
        "                                                        test_size=test_cut,\n",
        "                                                        shuffle=True)\n",
        "    return X_train, X_test, y_train, y_test, X_val, y_val"
      ],
      "metadata": {
        "id": "g92Gwlhi11s2"
      },
      "execution_count": null,
      "outputs": []
    },
    {
      "cell_type": "code",
      "source": [
        "X_train, X_test, y_train, y_test, X_val, y_val  = divide_to_sets(X,y, val_cut=0.1, test_cut=0.25)"
      ],
      "metadata": {
        "id": "yqIQ2-Dy5vy7"
      },
      "execution_count": null,
      "outputs": []
    },
    {
      "cell_type": "markdown",
      "source": [
        "## Model 3"
      ],
      "metadata": {
        "id": "GFWFQDyqpu52"
      }
    },
    {
      "cell_type": "code",
      "source": [
        "# Create the model\n",
        "model_3 = tf.keras.Sequential([\n",
        "    tf.keras.layers.Dense(100, activation=\"relu\", name=\"FCLayer_1\"),\n",
        "    tf.keras.layers.Dense(100, activation=\"relu\", name=\"FCLayer_2\"),\n",
        "    tf.keras.layers.Dense(100, activation=\"relu\", name=\"FCLayer_3\"),\n",
        "    tf.keras.layers.Dense(1, name=\"OutputLayer\")\n",
        "], name=\"Model_3\")\n",
        "# Compile the model\n",
        "model_3.compile(optimizer=tf.keras.optimizers.Adam(learning_rate=1e-3),\n",
        "                loss=tf.keras.losses.mae,\n",
        "                metrics=tf.keras.metrics.mae)"
      ],
      "metadata": {
        "id": "AbBsMyuFpQVp"
      },
      "execution_count": null,
      "outputs": []
    },
    {
      "cell_type": "code",
      "source": [
        "# Fit the model\n",
        "model_3_history = model_3.fit(tf.expand_dims(X_train, axis=-1), y_train,\n",
        "            validation_data=(tf.expand_dims(X_test, axis=-1), y_test),\n",
        "            epochs=32,\n",
        "            batch_size=1,\n",
        "            verbose=1)"
      ],
      "metadata": {
        "colab": {
          "base_uri": "https://localhost:8080/"
        },
        "id": "_zI0BPPbqnjJ",
        "outputId": "fe62651d-3613-4562-dfc5-a369fe9b01d5"
      },
      "execution_count": null,
      "outputs": [
        {
          "output_type": "stream",
          "name": "stdout",
          "text": [
            "Epoch 1/32\n",
            "67/67 [==============================] - 2s 8ms/step - loss: 79.1415 - mean_absolute_error: 79.1415 - val_loss: 37.4441 - val_mean_absolute_error: 37.4441\n",
            "Epoch 2/32\n",
            "67/67 [==============================] - 0s 5ms/step - loss: 47.3859 - mean_absolute_error: 47.3859 - val_loss: 35.9461 - val_mean_absolute_error: 35.9461\n",
            "Epoch 3/32\n",
            "67/67 [==============================] - 0s 5ms/step - loss: 44.5737 - mean_absolute_error: 44.5737 - val_loss: 35.2850 - val_mean_absolute_error: 35.2850\n",
            "Epoch 4/32\n",
            "67/67 [==============================] - 0s 4ms/step - loss: 45.5531 - mean_absolute_error: 45.5531 - val_loss: 35.3022 - val_mean_absolute_error: 35.3022\n",
            "Epoch 5/32\n",
            "67/67 [==============================] - 0s 5ms/step - loss: 44.5303 - mean_absolute_error: 44.5303 - val_loss: 35.4261 - val_mean_absolute_error: 35.4261\n",
            "Epoch 6/32\n",
            "67/67 [==============================] - 0s 5ms/step - loss: 44.9780 - mean_absolute_error: 44.9780 - val_loss: 34.8809 - val_mean_absolute_error: 34.8809\n",
            "Epoch 7/32\n",
            "67/67 [==============================] - 0s 5ms/step - loss: 49.9619 - mean_absolute_error: 49.9619 - val_loss: 36.5725 - val_mean_absolute_error: 36.5725\n",
            "Epoch 8/32\n",
            "67/67 [==============================] - 0s 5ms/step - loss: 45.0400 - mean_absolute_error: 45.0400 - val_loss: 33.8831 - val_mean_absolute_error: 33.8831\n",
            "Epoch 9/32\n",
            "67/67 [==============================] - 0s 4ms/step - loss: 41.8532 - mean_absolute_error: 41.8532 - val_loss: 49.6536 - val_mean_absolute_error: 49.6536\n",
            "Epoch 10/32\n",
            "67/67 [==============================] - 0s 4ms/step - loss: 42.6218 - mean_absolute_error: 42.6218 - val_loss: 38.7619 - val_mean_absolute_error: 38.7619\n",
            "Epoch 11/32\n",
            "67/67 [==============================] - 0s 4ms/step - loss: 46.3850 - mean_absolute_error: 46.3850 - val_loss: 33.7785 - val_mean_absolute_error: 33.7785\n",
            "Epoch 12/32\n",
            "67/67 [==============================] - 0s 4ms/step - loss: 44.2391 - mean_absolute_error: 44.2391 - val_loss: 33.8085 - val_mean_absolute_error: 33.8085\n",
            "Epoch 13/32\n",
            "67/67 [==============================] - 0s 4ms/step - loss: 41.5877 - mean_absolute_error: 41.5877 - val_loss: 34.7735 - val_mean_absolute_error: 34.7735\n",
            "Epoch 14/32\n",
            "67/67 [==============================] - 0s 4ms/step - loss: 42.3758 - mean_absolute_error: 42.3758 - val_loss: 32.8078 - val_mean_absolute_error: 32.8078\n",
            "Epoch 15/32\n",
            "67/67 [==============================] - 0s 5ms/step - loss: 41.4801 - mean_absolute_error: 41.4801 - val_loss: 32.4445 - val_mean_absolute_error: 32.4445\n",
            "Epoch 16/32\n",
            "67/67 [==============================] - 1s 14ms/step - loss: 44.5214 - mean_absolute_error: 44.5214 - val_loss: 33.1414 - val_mean_absolute_error: 33.1414\n",
            "Epoch 17/32\n",
            "67/67 [==============================] - 0s 7ms/step - loss: 41.4923 - mean_absolute_error: 41.4923 - val_loss: 33.3261 - val_mean_absolute_error: 33.3261\n",
            "Epoch 18/32\n",
            "67/67 [==============================] - 0s 3ms/step - loss: 41.0412 - mean_absolute_error: 41.0412 - val_loss: 47.2087 - val_mean_absolute_error: 47.2087\n",
            "Epoch 19/32\n",
            "67/67 [==============================] - 0s 3ms/step - loss: 43.2117 - mean_absolute_error: 43.2117 - val_loss: 31.8065 - val_mean_absolute_error: 31.8065\n",
            "Epoch 20/32\n",
            "67/67 [==============================] - 0s 3ms/step - loss: 39.2343 - mean_absolute_error: 39.2343 - val_loss: 33.2023 - val_mean_absolute_error: 33.2023\n",
            "Epoch 21/32\n",
            "67/67 [==============================] - 0s 3ms/step - loss: 42.2134 - mean_absolute_error: 42.2134 - val_loss: 30.4690 - val_mean_absolute_error: 30.4690\n",
            "Epoch 22/32\n",
            "67/67 [==============================] - 0s 3ms/step - loss: 39.4276 - mean_absolute_error: 39.4276 - val_loss: 31.7388 - val_mean_absolute_error: 31.7388\n",
            "Epoch 23/32\n",
            "67/67 [==============================] - 0s 3ms/step - loss: 37.1381 - mean_absolute_error: 37.1381 - val_loss: 28.5575 - val_mean_absolute_error: 28.5575\n",
            "Epoch 24/32\n",
            "67/67 [==============================] - 0s 3ms/step - loss: 38.7614 - mean_absolute_error: 38.7614 - val_loss: 28.1718 - val_mean_absolute_error: 28.1718\n",
            "Epoch 25/32\n",
            "67/67 [==============================] - 0s 3ms/step - loss: 36.6850 - mean_absolute_error: 36.6850 - val_loss: 26.2070 - val_mean_absolute_error: 26.2070\n",
            "Epoch 26/32\n",
            "67/67 [==============================] - 0s 3ms/step - loss: 34.2554 - mean_absolute_error: 34.2554 - val_loss: 24.5394 - val_mean_absolute_error: 24.5394\n",
            "Epoch 27/32\n",
            "67/67 [==============================] - 0s 3ms/step - loss: 29.2765 - mean_absolute_error: 29.2765 - val_loss: 43.0710 - val_mean_absolute_error: 43.0710\n",
            "Epoch 28/32\n",
            "67/67 [==============================] - 0s 3ms/step - loss: 27.5815 - mean_absolute_error: 27.5815 - val_loss: 37.5309 - val_mean_absolute_error: 37.5309\n",
            "Epoch 29/32\n",
            "67/67 [==============================] - 0s 3ms/step - loss: 26.2387 - mean_absolute_error: 26.2387 - val_loss: 17.7369 - val_mean_absolute_error: 17.7369\n",
            "Epoch 30/32\n",
            "67/67 [==============================] - 0s 3ms/step - loss: 15.6227 - mean_absolute_error: 15.6227 - val_loss: 8.2154 - val_mean_absolute_error: 8.2154\n",
            "Epoch 31/32\n",
            "67/67 [==============================] - 0s 3ms/step - loss: 8.5954 - mean_absolute_error: 8.5954 - val_loss: 3.1051 - val_mean_absolute_error: 3.1051\n",
            "Epoch 32/32\n",
            "67/67 [==============================] - 0s 3ms/step - loss: 8.8818 - mean_absolute_error: 8.8818 - val_loss: 3.2542 - val_mean_absolute_error: 3.2542\n"
          ]
        }
      ]
    },
    {
      "cell_type": "code",
      "source": [
        "model_3.summary()"
      ],
      "metadata": {
        "colab": {
          "base_uri": "https://localhost:8080/"
        },
        "id": "rwPCeyg_8OEg",
        "outputId": "cbf519b8-b860-4d1d-c797-76f815fa9519"
      },
      "execution_count": null,
      "outputs": [
        {
          "output_type": "stream",
          "name": "stdout",
          "text": [
            "Model: \"Model_3\"\n",
            "_________________________________________________________________\n",
            " Layer (type)                Output Shape              Param #   \n",
            "=================================================================\n",
            " FCLayer_1 (Dense)           (1, 100)                  200       \n",
            "                                                                 \n",
            " FCLayer_2 (Dense)           (1, 100)                  10100     \n",
            "                                                                 \n",
            " FCLayer_3 (Dense)           (1, 100)                  10100     \n",
            "                                                                 \n",
            " OutputLayer (Dense)         (1, 1)                    101       \n",
            "                                                                 \n",
            "=================================================================\n",
            "Total params: 20,501\n",
            "Trainable params: 20,501\n",
            "Non-trainable params: 0\n",
            "_________________________________________________________________\n"
          ]
        }
      ]
    },
    {
      "cell_type": "markdown",
      "source": [
        "## Model Summary Description\n",
        "* **Total params** - total number of parameters in the model\n",
        "* **Trainable params** - these are the parameters (patterns) the model can update as it trains.\n",
        "* **Non-trainable params** - these parameters are not updated during training (this is typical when you bring in already learnt patterns or patameters from other model during **trasfer leraning**).\n",
        "\n",
        "**Resources**\n",
        "\n",
        "1 - [Fundamentals of Neural Networks](https://wandb.ai/site/articles/fundamentals-of-neural-networks)\n",
        "\n",
        "2 - [Deep Learning Deployment Fundamentals](https://deeplizard.com/learn/video/8d-9SnGt5E0)\n",
        "\n",
        "3 - [MIT Introduction to Deep Learning](https://www.youtube.com/watch?v=QDX-1M5Nj7s&list=PLtBw6njQRU-rwp5__7C0oIVt26ZgjG9NI)"
      ],
      "metadata": {
        "id": "9i7LY21M8Ppd"
      }
    },
    {
      "cell_type": "markdown",
      "source": [
        "## Model 3 Evaluation"
      ],
      "metadata": {
        "id": "x9k7tQ14pwr5"
      }
    },
    {
      "cell_type": "code",
      "source": [
        "plt.plot(model_3_history.history[\"loss\"])\n",
        "plt.plot(model_3_history.history[\"val_loss\"])\n",
        "plt.xlabel(\"Number of Epochs\")\n",
        "plt.ylabel(\"Loss Metric\")\n",
        "plt.title(\"Model_3 Training\")\n",
        "plt.legend([\"Training Loss\", \"Test Loss\"], loc=\"best\")\n",
        "plt.grid();"
      ],
      "metadata": {
        "colab": {
          "base_uri": "https://localhost:8080/",
          "height": 472
        },
        "id": "aRGQqzREp3s-",
        "outputId": "9e10a1fc-a969-4e3a-b52c-8b7ce3c51b11"
      },
      "execution_count": null,
      "outputs": [
        {
          "output_type": "display_data",
          "data": {
            "text/plain": [
              "<Figure size 640x480 with 1 Axes>"
            ],
            "image/png": "[encoded data removed]"
          },
          "metadata": {}
        }
      ]
    },
    {
      "cell_type": "code",
      "source": [
        "model_3_preds = model_3.predict(X_val)\n",
        "plt.plot(model_3_preds)\n",
        "plt.plot(y_val)\n",
        "plt.legend([\"Prediction\", \"Actual\"]);"
      ],
      "metadata": {
        "colab": {
          "base_uri": "https://localhost:8080/",
          "height": 448
        },
        "id": "6e0AGpm-Cp-9",
        "outputId": "b4f255cc-5ae5-4788-d39e-64a49625a834"
      },
      "execution_count": null,
      "outputs": [
        {
          "output_type": "stream",
          "name": "stdout",
          "text": [
            "1/1 [==============================] - 0s 79ms/step\n"
          ]
        },
        {
          "output_type": "display_data",
          "data": {
            "text/plain": [
              "<Figure size 640x480 with 1 Axes>"
            ],
            "image/png": "[encoded data removed]"
          },
          "metadata": {}
        }
      ]
    },
    {
      "cell_type": "code",
      "source": [
        "errors=[]\n",
        "for a,p in zip(y_val, model_3_preds):\n",
        "  errors.append(round(float((a-p)[0]),3))\n",
        "model_3_eval = pd.DataFrame({\"actual\":tf.squeeze(y_val),\n",
        "              \"prediction\":tf.squeeze(model_3_preds),\n",
        "              \"errors\":errors})\n",
        "model_3_eval.head()"
      ],
      "metadata": {
        "colab": {
          "base_uri": "https://localhost:8080/",
          "height": 206
        },
        "id": "mVaMyt3oCqQZ",
        "outputId": "aa8cafc2-ac00-4ef9-df97-b06d0a1b9d7e"
      },
      "execution_count": null,
      "outputs": [
        {
          "output_type": "execute_result",
          "data": {
            "text/plain": [
              "   actual  prediction  errors\n",
              "0     360  355.181396   4.819\n",
              "1     364  359.141296   4.859\n",
              "2     368  363.101135   4.899\n",
              "3     372  367.061035   4.939\n",
              "4     376  371.020874   4.979"
            ],
            "text/html": [
              "\n",
              "\n",
              "  <div id=\"df-f2b96255-85a4-406b-8fc1-07aa1df74d33\">\n",
              "    <div class=\"colab-df-container\">\n",
              "      <div>\n",
              "<style scoped>\n",
              "    .dataframe tbody tr th:only-of-type {\n",
              "        vertical-align: middle;\n",
              "    }\n",
              "\n",
              "    .dataframe tbody tr th {\n",
              "        vertical-align: top;\n",
              "    }\n",
              "\n",
              "    .dataframe thead th {\n",
              "        text-align: right;\n",
              "    }\n",
              "</style>\n",
              "<table border=\"1\" class=\"dataframe\">\n",
              "  <thead>\n",
              "    <tr style=\"text-align: right;\">\n",
              "      <th></th>\n",
              "      <th>actual</th>\n",
              "      <th>prediction</th>\n",
              "      <th>errors</th>\n",
              "    </tr>\n",
              "  </thead>\n",
              "  <tbody>\n",
              "    <tr>\n",
              "      <th>0</th>\n",
              "      <td>360</td>\n",
              "      <td>355.181396</td>\n",
              "      <td>4.819</td>\n",
              "    </tr>\n",
              "    <tr>\n",
              "      <th>1</th>\n",
              "      <td>364</td>\n",
              "      <td>359.141296</td>\n",
              "      <td>4.859</td>\n",
              "    </tr>\n",
              "    <tr>\n",
              "      <th>2</th>\n",
              "      <td>368</td>\n",
              "      <td>363.101135</td>\n",
              "      <td>4.899</td>\n",
              "    </tr>\n",
              "    <tr>\n",
              "      <th>3</th>\n",
              "      <td>372</td>\n",
              "      <td>367.061035</td>\n",
              "      <td>4.939</td>\n",
              "    </tr>\n",
              "    <tr>\n",
              "      <th>4</th>\n",
              "      <td>376</td>\n",
              "      <td>371.020874</td>\n",
              "      <td>4.979</td>\n",
              "    </tr>\n",
              "  </tbody>\n",
              "</table>\n",
              "</div>\n",
              "      <button class=\"colab-df-convert\" onclick=\"convertToInteractive('df-f2b96255-85a4-406b-8fc1-07aa1df74d33')\"\n",
              "              title=\"Convert this dataframe to an interactive table.\"\n",
              "              style=\"display:none;\">\n",
              "\n",
              "  <svg xmlns=\"http://www.w3.org/2000/svg\" height=\"24px\"viewBox=\"0 0 24 24\"\n",
              "       width=\"24px\">\n",
              "    <path d=\"M0 0h24v24H0V0z\" fill=\"none\"/>\n",
              "    <path d=\"M18.56 5.44l.94 2.06.94-2.06 2.06-.94-2.06-.94-.94-2.06-.94 2.06-2.06.94zm-11 1L8.5 8.5l.94-2.06 2.06-.94-2.06-.94L8.5 2.5l-.94 2.06-2.06.94zm10 10l.94 2.06.94-2.06 2.06-.94-2.06-.94-.94-2.06-.94 2.06-2.06.94z\"/><path d=\"M17.41 7.96l-1.37-1.37c-.4-.4-.92-.59-1.43-.59-.52 0-1.04.2-1.43.59L10.3 9.45l-7.72 7.72c-.78.78-.78 2.05 0 2.83L4 21.41c.39.39.9.59 1.41.59.51 0 1.02-.2 1.41-.59l7.78-7.78 2.81-2.81c.8-.78.8-2.07 0-2.86zM5.41 20L4 18.59l7.72-7.72 1.47 1.35L5.41 20z\"/>\n",
              "  </svg>\n",
              "      </button>\n",
              "\n",
              "\n",
              "\n",
              "    <div id=\"df-be280f64-a102-4edf-b007-e94cdde6c173\">\n",
              "      <button class=\"colab-df-quickchart\" onclick=\"quickchart('df-be280f64-a102-4edf-b007-e94cdde6c173')\"\n",
              "              title=\"Suggest charts.\"\n",
              "              style=\"display:none;\">\n",
              "\n",
              "<svg xmlns=\"http://www.w3.org/2000/svg\" height=\"24px\"viewBox=\"0 0 24 24\"\n",
              "     width=\"24px\">\n",
              "    <g>\n",
              "        <path d=\"M19 3H5c-1.1 0-2 .9-2 2v14c0 1.1.9 2 2 2h14c1.1 0 2-.9 2-2V5c0-1.1-.9-2-2-2zM9 17H7v-7h2v7zm4 0h-2V7h2v10zm4 0h-2v-4h2v4z\"/>\n",
              "    </g>\n",
              "</svg>\n",
              "      </button>\n",
              "    </div>\n",
              "\n",
              "<style>\n",
              "  .colab-df-quickchart {\n",
              "    background-color: #E8F0FE;\n",
              "    border: none;\n",
              "    border-radius: 50%;\n",
              "    cursor: pointer;\n",
              "    display: none;\n",
              "    fill: #1967D2;\n",
              "    height: 32px;\n",
              "    padding: 0 0 0 0;\n",
              "    width: 32px;\n",
              "  }\n",
              "\n",
              "  .colab-df-quickchart:hover {\n",
              "    background-color: #E2EBFA;\n",
              "    box-shadow: 0px 1px 2px rgba(60, 64, 67, 0.3), 0px 1px 3px 1px rgba(60, 64, 67, 0.15);\n",
              "    fill: #174EA6;\n",
              "  }\n",
              "\n",
              "  [theme=dark] .colab-df-quickchart {\n",
              "    background-color: #3B4455;\n",
              "    fill: #D2E3FC;\n",
              "  }\n",
              "\n",
              "  [theme=dark] .colab-df-quickchart:hover {\n",
              "    background-color: #434B5C;\n",
              "    box-shadow: 0px 1px 3px 1px rgba(0, 0, 0, 0.15);\n",
              "    filter: drop-shadow(0px 1px 2px rgba(0, 0, 0, 0.3));\n",
              "    fill: #FFFFFF;\n",
              "  }\n",
              "</style>\n",
              "\n",
              "    <script>\n",
              "      async function quickchart(key) {\n",
              "        const containerElement = document.querySelector('#' + key);\n",
              "        const charts = await google.colab.kernel.invokeFunction(\n",
              "            'suggestCharts', [key], {});\n",
              "      }\n",
              "    </script>\n",
              "\n",
              "\n",
              "      <script>\n",
              "\n",
              "function displayQuickchartButton(domScope) {\n",
              "  let quickchartButtonEl =\n",
              "    domScope.querySelector('#df-be280f64-a102-4edf-b007-e94cdde6c173 button.colab-df-quickchart');\n",
              "  quickchartButtonEl.style.display =\n",
              "    google.colab.kernel.accessAllowed ? 'block' : 'none';\n",
              "}\n",
              "\n",
              "        displayQuickchartButton(document);\n",
              "      </script>\n",
              "      <style>\n",
              "    .colab-df-container {\n",
              "      display:flex;\n",
              "      flex-wrap:wrap;\n",
              "      gap: 12px;\n",
              "    }\n",
              "\n",
              "    .colab-df-convert {\n",
              "      background-color: #E8F0FE;\n",
              "      border: none;\n",
              "      border-radius: 50%;\n",
              "      cursor: pointer;\n",
              "      display: none;\n",
              "      fill: #1967D2;\n",
              "      height: 32px;\n",
              "      padding: 0 0 0 0;\n",
              "      width: 32px;\n",
              "    }\n",
              "\n",
              "    .colab-df-convert:hover {\n",
              "      background-color: #E2EBFA;\n",
              "      box-shadow: 0px 1px 2px rgba(60, 64, 67, 0.3), 0px 1px 3px 1px rgba(60, 64, 67, 0.15);\n",
              "      fill: #174EA6;\n",
              "    }\n",
              "\n",
              "    [theme=dark] .colab-df-convert {\n",
              "      background-color: #3B4455;\n",
              "      fill: #D2E3FC;\n",
              "    }\n",
              "\n",
              "    [theme=dark] .colab-df-convert:hover {\n",
              "      background-color: #434B5C;\n",
              "      box-shadow: 0px 1px 3px 1px rgba(0, 0, 0, 0.15);\n",
              "      filter: drop-shadow(0px 1px 2px rgba(0, 0, 0, 0.3));\n",
              "      fill: #FFFFFF;\n",
              "    }\n",
              "  </style>\n",
              "\n",
              "      <script>\n",
              "        const buttonEl =\n",
              "          document.querySelector('#df-f2b96255-85a4-406b-8fc1-07aa1df74d33 button.colab-df-convert');\n",
              "        buttonEl.style.display =\n",
              "          google.colab.kernel.accessAllowed ? 'block' : 'none';\n",
              "\n",
              "        async function convertToInteractive(key) {\n",
              "          const element = document.querySelector('#df-f2b96255-85a4-406b-8fc1-07aa1df74d33');\n",
              "          const dataTable =\n",
              "            await google.colab.kernel.invokeFunction('convertToInteractive',\n",
              "                                                     [key], {});\n",
              "          if (!dataTable) return;\n",
              "\n",
              "          const docLinkHtml = 'Like what you see? Visit the ' +\n",
              "            '<a target=\"_blank\" href=https://colab.research.google.com/notebooks/data_table.ipynb>data table notebook</a>'\n",
              "            + ' to learn more about interactive tables.';\n",
              "          element.innerHTML = '';\n",
              "          dataTable['output_type'] = 'display_data';\n",
              "          await google.colab.output.renderOutput(dataTable, element);\n",
              "          const docLink = document.createElement('div');\n",
              "          docLink.innerHTML = docLinkHtml;\n",
              "          element.appendChild(docLink);\n",
              "        }\n",
              "      </script>\n",
              "    </div>\n",
              "  </div>\n"
            ]
          },
          "metadata": {},
          "execution_count": 34
        }
      ]
    },
    {
      "cell_type": "code",
      "source": [
        "# Model Architecture\n",
        "plot_model(model_3,\n",
        "           show_shapes=True)"
      ],
      "metadata": {
        "colab": {
          "base_uri": "https://localhost:8080/",
          "height": 533
        },
        "id": "8mXz5ii7FIqz",
        "outputId": "1409f10d-5ec7-4594-f54f-1dd3bf73020d"
      },
      "execution_count": null,
      "outputs": [
        {
          "output_type": "execute_result",
          "data": {
            "image/png": "[encoded data removed]",
            "text/plain": [
              "<IPython.core.display.Image object>"
            ]
          },
          "metadata": {},
          "execution_count": 35
        }
      ]
    },
    {
      "cell_type": "markdown",
      "source": [
        "# Model Evaluation Cont."
      ],
      "metadata": {
        "id": "RR9Hrglk4W9Q"
      }
    },
    {
      "cell_type": "code",
      "source": [
        "def plot_predictions(train_data,\n",
        "                     train_labels,\n",
        "                     test_data,\n",
        "                     test_labels,\n",
        "                     val_data,\n",
        "                     predictions):\n",
        "\n",
        "  plt.figure(figsize=(10,7))\n",
        "  plt.scatter(train_data, train_labels, c=\"b\", label=\"Training Data\")\n",
        "  plt.scatter(test_data, test_labels, c=\"g\", label=\"Test Data\")\n",
        "  plt.scatter(val_data, predictions, c=\"r\", label=\"Test Data\")\n",
        "  plt.legend();"
      ],
      "metadata": {
        "id": "8VLM9EuG4cNR"
      },
      "execution_count": null,
      "outputs": []
    },
    {
      "cell_type": "code",
      "source": [
        "plot_predictions(X_train,\n",
        "                 y_train,\n",
        "                 X_test,\n",
        "                 y_test,\n",
        "                 X_val,\n",
        "                 model_3_preds)"
      ],
      "metadata": {
        "colab": {
          "base_uri": "https://localhost:8080/",
          "height": 599
        },
        "id": "KSj13xuL5D0B",
        "outputId": "9e23c3c2-c3b0-413e-b06c-04b95bc6490a"
      },
      "execution_count": null,
      "outputs": [
        {
          "output_type": "display_data",
          "data": {
            "text/plain": [
              "<Figure size 1000x700 with 1 Axes>"
            ],
            "image/png": "[encoded data removed]"
          },
          "metadata": {}
        }
      ]
    },
    {
      "cell_type": "markdown",
      "source": [
        "## Regression Evaluation Metrics\n",
        "\n",
        "Depending on the problem you are working on, there will be different evaluation metrics to evaluate your model's performance. Since we are working on a regression task here, here are some of the commonly-used regression metrics when evaluating a model. There are also some other metrics variations, such as root-mean squared error.\n",
        "\n",
        "\n",
        "1 - **Mean Absolute Error (MAE)** - MAE is the average of all absolute errors. The formula is:\n",
        "\n",
        "\n",
        "Mean Absolute Error (MAE):\n",
        "\n",
        " * $MAE = \\frac{\\sum_{i=1}^{n} |Y_i - \\hat{y}_i|}{n}$\n",
        "\n",
        "Where:\n",
        "- $Y_i$ and $\\hat{y}$ are $D$-dimensional vectors, and $Y_i$ and \\($\\hat{y}_i$) denote the values on the $i^{th}$ dimension of $Y_i$ and $\\hat{y}$ respectively.\n",
        "- $n$ is the number of errors.\n",
        "- $\\sum$ represents the summation symbol, which means \"add them all up\".\n",
        "- $|Y_i - \\hat{y}_i|$ represents the absolute errors.\n",
        "\n",
        "\n",
        "\n",
        "2 - **Mean Squared Error** - MSE assesses the average squared difference between the observed and predicted values. When a model has no error, the MSE equals zero. As model error increases, its value increases. The mean squared error is also known as the mean squared deviation (MSD).\n",
        "\n",
        "Formula:\n",
        "\n",
        " * $MSE = \\frac{\\sum_{i=1}^{n}(Y_i-\\hat{y_i})^2}{n}$\n",
        "\n",
        "where;\n",
        "\n",
        "* ${n}$\t=\tnumber of data points\n",
        "* $Y_{i}$\t=\tobserved values\n",
        "* $\\hat{Y}_{i}$\t=\tpredicted values\n",
        "\n",
        "\n",
        "---\n",
        "\n",
        "**Code Examples**\n",
        "\n",
        "\n",
        "\n",
        "```Python\n",
        "tf.keras.losses.MAE()\n",
        "tf.metrics.mean_absolute_error()\n",
        "\n",
        "tf.keras.losses.MSE()\n",
        "tf.metrics.mean_squared_error()\n",
        "\n",
        "```\n",
        "\n",
        "\n",
        "\n",
        "**Resources**\n",
        "\n",
        "1 - [Keras API Regression metrics](https://keras.io/api/metrics/regression_metrics/)\n",
        "\n",
        "2 - [regression_metrics.py (GitHub)](https://github.com/keras-team/keras/blob/v2.13.1/keras/metrics/regression_metrics.py#L323)\n",
        "\n",
        "3 - [Absolute Error & Mean Absolute Error](https://www.statisticshowto.com/absolute-error/)\n",
        "\n",
        "4 - [Mean Squared Error (MSE) by Jim Frost](https://statisticsbyjim.com/regression/mean-squared-error-mse/)\n"
      ],
      "metadata": {
        "id": "d2hooowL6IZB"
      }
    },
    {
      "cell_type": "markdown",
      "source": [
        "# Model Improvement Experiments\n",
        "\n",
        "**Improvement areas to consider**\n",
        "\n",
        "1 - Get More Data - get more examples for the model to train on (more opportunities for model to learn pattern or relationships beween feature and target variables)\n",
        "\n",
        "2 - Make A larger Model - this might come in the form of more layers or more hidden units in each layer\n",
        "\n",
        "3 - Train for longer - give your model more of a chance to find patterns in the data\n",
        "\n",
        "Let's conduct three modelling experiments.\n",
        "\n",
        "`model_1` - same as the original model, 1 layer, trained for 100 epochs\n",
        "\n",
        "`model_2` - 2 layers, trained for 100 epochs"
      ],
      "metadata": {
        "id": "CvXMtVPc48RN"
      }
    },
    {
      "cell_type": "markdown",
      "source": [
        "# ` Experiment: model_1 `"
      ],
      "metadata": {
        "id": "w9YOeURZ6ZSM"
      }
    },
    {
      "cell_type": "markdown",
      "source": [
        "## Data Creation"
      ],
      "metadata": {
        "id": "BzVssD8w9VSP"
      }
    },
    {
      "cell_type": "code",
      "source": [
        "tf.random.set_seed(42)\n",
        "\n",
        "X = tf.range(-100, 300,2)\n",
        "y = X + 100\n",
        "X_train, X_test, y_train, y_test, X_val, y_val = divide_to_sets(X, y, val_cut=0.1, test_cut=0.25)"
      ],
      "metadata": {
        "id": "QMYtKK7v8KiW"
      },
      "execution_count": null,
      "outputs": []
    },
    {
      "cell_type": "markdown",
      "source": [
        "## Modelling"
      ],
      "metadata": {
        "id": "-BLD6m2s9XaV"
      }
    },
    {
      "cell_type": "code",
      "source": [
        "tf.random.set_seed(42)\n",
        "exp_model_1 = tf.keras.Sequential([\n",
        "    tf.keras.layers.BatchNormalization(),\n",
        "    tf.keras.layers.Dense(1, name=\"FC_Layer_1\")\n",
        "], name=\"experiment_model_1\")\n",
        "\n",
        "exp_model_1.compile(loss=tf.keras.losses.mean_absolute_error,\n",
        "                    optimizer=tf.keras.optimizers.SGD(),\n",
        "                    metrics=tf.metrics.mean_absolute_error)\n",
        "\n",
        "exp_model_1_history = exp_model_1.fit(tf.expand_dims(X_train, axis=-1), y_train,\n",
        "                validation_data=(tf.expand_dims(X_test, axis=-1), y_test),\n",
        "                epochs=100,\n",
        "                verbose=1)"
      ],
      "metadata": {
        "id": "N2xwOD_C6Hbp",
        "colab": {
          "base_uri": "https://localhost:8080/"
        },
        "outputId": "069b050b-cc91-46d5-c914-1eaf0f190768"
      },
      "execution_count": null,
      "outputs": [
        {
          "output_type": "stream",
          "name": "stdout",
          "text": [
            "Epoch 1/100\n",
            "5/5 [==============================] - 1s 81ms/step - loss: 176.3348 - mean_absolute_error: 176.3348 - val_loss: 184.9114 - val_mean_absolute_error: 184.9114\n",
            "Epoch 2/100\n",
            "5/5 [==============================] - 0s 21ms/step - loss: 176.2711 - mean_absolute_error: 176.2711 - val_loss: 185.4593 - val_mean_absolute_error: 185.4593\n",
            "Epoch 3/100\n",
            "5/5 [==============================] - 0s 20ms/step - loss: 176.2073 - mean_absolute_error: 176.2073 - val_loss: 185.6907 - val_mean_absolute_error: 185.6907\n",
            "Epoch 4/100\n",
            "5/5 [==============================] - 0s 20ms/step - loss: 176.1431 - mean_absolute_error: 176.1431 - val_loss: 185.7941 - val_mean_absolute_error: 185.7941\n",
            "Epoch 5/100\n",
            "5/5 [==============================] - 0s 20ms/step - loss: 176.0785 - mean_absolute_error: 176.0785 - val_loss: 185.8397 - val_mean_absolute_error: 185.8397\n",
            "Epoch 6/100\n",
            "5/5 [==============================] - 0s 20ms/step - loss: 176.0134 - mean_absolute_error: 176.0134 - val_loss: 185.8598 - val_mean_absolute_error: 185.8598\n",
            "Epoch 7/100\n",
            "5/5 [==============================] - 0s 19ms/step - loss: 175.9474 - mean_absolute_error: 175.9474 - val_loss: 185.8413 - val_mean_absolute_error: 185.8413\n",
            "Epoch 8/100\n",
            "5/5 [==============================] - 0s 19ms/step - loss: 175.8806 - mean_absolute_error: 175.8806 - val_loss: 185.8204 - val_mean_absolute_error: 185.8204\n",
            "Epoch 9/100\n",
            "5/5 [==============================] - 0s 22ms/step - loss: 175.8127 - mean_absolute_error: 175.8127 - val_loss: 185.7939 - val_mean_absolute_error: 185.7939\n",
            "Epoch 10/100\n",
            "5/5 [==============================] - 0s 19ms/step - loss: 175.7435 - mean_absolute_error: 175.7435 - val_loss: 185.7565 - val_mean_absolute_error: 185.7565\n",
            "Epoch 11/100\n",
            "5/5 [==============================] - 0s 21ms/step - loss: 175.6729 - mean_absolute_error: 175.6729 - val_loss: 185.7141 - val_mean_absolute_error: 185.7141\n",
            "Epoch 12/100\n",
            "5/5 [==============================] - 0s 27ms/step - loss: 175.6007 - mean_absolute_error: 175.6007 - val_loss: 185.6662 - val_mean_absolute_error: 185.6662\n",
            "Epoch 13/100\n",
            "5/5 [==============================] - 0s 22ms/step - loss: 175.5266 - mean_absolute_error: 175.5266 - val_loss: 185.6113 - val_mean_absolute_error: 185.6113\n",
            "Epoch 14/100\n",
            "5/5 [==============================] - 0s 15ms/step - loss: 175.4504 - mean_absolute_error: 175.4504 - val_loss: 185.5498 - val_mean_absolute_error: 185.5498\n",
            "Epoch 15/100\n",
            "5/5 [==============================] - 0s 27ms/step - loss: 175.3718 - mean_absolute_error: 175.3718 - val_loss: 185.4839 - val_mean_absolute_error: 185.4839\n",
            "Epoch 16/100\n",
            "5/5 [==============================] - 0s 20ms/step - loss: 175.2906 - mean_absolute_error: 175.2906 - val_loss: 185.4132 - val_mean_absolute_error: 185.4132\n",
            "Epoch 17/100\n",
            "5/5 [==============================] - 0s 19ms/step - loss: 175.2065 - mean_absolute_error: 175.2065 - val_loss: 185.3402 - val_mean_absolute_error: 185.3402\n",
            "Epoch 18/100\n",
            "5/5 [==============================] - 0s 20ms/step - loss: 175.1190 - mean_absolute_error: 175.1190 - val_loss: 185.2516 - val_mean_absolute_error: 185.2516\n",
            "Epoch 19/100\n",
            "5/5 [==============================] - 0s 27ms/step - loss: 175.0321 - mean_absolute_error: 175.0321 - val_loss: 185.1635 - val_mean_absolute_error: 185.1635\n",
            "Epoch 20/100\n",
            "5/5 [==============================] - 0s 25ms/step - loss: 174.9359 - mean_absolute_error: 174.9359 - val_loss: 185.0741 - val_mean_absolute_error: 185.0741\n",
            "Epoch 21/100\n",
            "5/5 [==============================] - 0s 60ms/step - loss: 174.8347 - mean_absolute_error: 174.8347 - val_loss: 184.9741 - val_mean_absolute_error: 184.9741\n",
            "Epoch 22/100\n",
            "5/5 [==============================] - 0s 88ms/step - loss: 174.7349 - mean_absolute_error: 174.7349 - val_loss: 184.8690 - val_mean_absolute_error: 184.8690\n",
            "Epoch 23/100\n",
            "5/5 [==============================] - 0s 60ms/step - loss: 174.6243 - mean_absolute_error: 174.6243 - val_loss: 184.7543 - val_mean_absolute_error: 184.7543\n",
            "Epoch 24/100\n",
            "5/5 [==============================] - 0s 70ms/step - loss: 174.5066 - mean_absolute_error: 174.5066 - val_loss: 184.6347 - val_mean_absolute_error: 184.6347\n",
            "Epoch 25/100\n",
            "5/5 [==============================] - 0s 59ms/step - loss: 174.3916 - mean_absolute_error: 174.3916 - val_loss: 184.5058 - val_mean_absolute_error: 184.5058\n",
            "Epoch 26/100\n",
            "5/5 [==============================] - 0s 47ms/step - loss: 174.2594 - mean_absolute_error: 174.2594 - val_loss: 184.3683 - val_mean_absolute_error: 184.3683\n",
            "Epoch 27/100\n",
            "5/5 [==============================] - 0s 18ms/step - loss: 174.1202 - mean_absolute_error: 174.1202 - val_loss: 184.2176 - val_mean_absolute_error: 184.2176\n",
            "Epoch 28/100\n",
            "5/5 [==============================] - 0s 19ms/step - loss: 173.9776 - mean_absolute_error: 173.9776 - val_loss: 184.0626 - val_mean_absolute_error: 184.0626\n",
            "Epoch 29/100\n",
            "5/5 [==============================] - 0s 17ms/step - loss: 173.8166 - mean_absolute_error: 173.8166 - val_loss: 183.8988 - val_mean_absolute_error: 183.8988\n",
            "Epoch 30/100\n",
            "5/5 [==============================] - 0s 18ms/step - loss: 173.6525 - mean_absolute_error: 173.6525 - val_loss: 183.7149 - val_mean_absolute_error: 183.7149\n",
            "Epoch 31/100\n",
            "5/5 [==============================] - 0s 19ms/step - loss: 173.4715 - mean_absolute_error: 173.4715 - val_loss: 183.5271 - val_mean_absolute_error: 183.5271\n",
            "Epoch 32/100\n",
            "5/5 [==============================] - 0s 16ms/step - loss: 173.2809 - mean_absolute_error: 173.2809 - val_loss: 183.3213 - val_mean_absolute_error: 183.3213\n",
            "Epoch 33/100\n",
            "5/5 [==============================] - 0s 17ms/step - loss: 173.0774 - mean_absolute_error: 173.0774 - val_loss: 183.1000 - val_mean_absolute_error: 183.1000\n",
            "Epoch 34/100\n",
            "5/5 [==============================] - 0s 16ms/step - loss: 172.8476 - mean_absolute_error: 172.8476 - val_loss: 182.8516 - val_mean_absolute_error: 182.8516\n",
            "Epoch 35/100\n",
            "5/5 [==============================] - 0s 20ms/step - loss: 172.6063 - mean_absolute_error: 172.6063 - val_loss: 182.5947 - val_mean_absolute_error: 182.5947\n",
            "Epoch 36/100\n",
            "5/5 [==============================] - 0s 23ms/step - loss: 172.3445 - mean_absolute_error: 172.3445 - val_loss: 182.3105 - val_mean_absolute_error: 182.3105\n",
            "Epoch 37/100\n",
            "5/5 [==============================] - 0s 21ms/step - loss: 172.0549 - mean_absolute_error: 172.0549 - val_loss: 182.0021 - val_mean_absolute_error: 182.0021\n",
            "Epoch 38/100\n",
            "5/5 [==============================] - 0s 20ms/step - loss: 171.7405 - mean_absolute_error: 171.7405 - val_loss: 181.6649 - val_mean_absolute_error: 181.6649\n",
            "Epoch 39/100\n",
            "5/5 [==============================] - 0s 17ms/step - loss: 171.4147 - mean_absolute_error: 171.4147 - val_loss: 181.3027 - val_mean_absolute_error: 181.3027\n",
            "Epoch 40/100\n",
            "5/5 [==============================] - 0s 21ms/step - loss: 171.0615 - mean_absolute_error: 171.0615 - val_loss: 180.9146 - val_mean_absolute_error: 180.9146\n",
            "Epoch 41/100\n",
            "5/5 [==============================] - 0s 17ms/step - loss: 170.6664 - mean_absolute_error: 170.6664 - val_loss: 180.4873 - val_mean_absolute_error: 180.4873\n",
            "Epoch 42/100\n",
            "5/5 [==============================] - 0s 19ms/step - loss: 170.2436 - mean_absolute_error: 170.2436 - val_loss: 180.0229 - val_mean_absolute_error: 180.0229\n",
            "Epoch 43/100\n",
            "5/5 [==============================] - 0s 16ms/step - loss: 169.7826 - mean_absolute_error: 169.7826 - val_loss: 179.5155 - val_mean_absolute_error: 179.5155\n",
            "Epoch 44/100\n",
            "5/5 [==============================] - 0s 19ms/step - loss: 169.2589 - mean_absolute_error: 169.2589 - val_loss: 178.9425 - val_mean_absolute_error: 178.9425\n",
            "Epoch 45/100\n",
            "5/5 [==============================] - 0s 21ms/step - loss: 168.7318 - mean_absolute_error: 168.7318 - val_loss: 178.3322 - val_mean_absolute_error: 178.3322\n",
            "Epoch 46/100\n",
            "5/5 [==============================] - 0s 15ms/step - loss: 168.1227 - mean_absolute_error: 168.1227 - val_loss: 177.6737 - val_mean_absolute_error: 177.6737\n",
            "Epoch 47/100\n",
            "5/5 [==============================] - 0s 16ms/step - loss: 167.4672 - mean_absolute_error: 167.4672 - val_loss: 176.9418 - val_mean_absolute_error: 176.9418\n",
            "Epoch 48/100\n",
            "5/5 [==============================] - 0s 20ms/step - loss: 166.7530 - mean_absolute_error: 166.7530 - val_loss: 176.1593 - val_mean_absolute_error: 176.1593\n",
            "Epoch 49/100\n",
            "5/5 [==============================] - 0s 16ms/step - loss: 165.9470 - mean_absolute_error: 165.9470 - val_loss: 175.2942 - val_mean_absolute_error: 175.2942\n",
            "Epoch 50/100\n",
            "5/5 [==============================] - 0s 18ms/step - loss: 165.1336 - mean_absolute_error: 165.1336 - val_loss: 174.3391 - val_mean_absolute_error: 174.3391\n",
            "Epoch 51/100\n",
            "5/5 [==============================] - 0s 20ms/step - loss: 164.2147 - mean_absolute_error: 164.2147 - val_loss: 173.3107 - val_mean_absolute_error: 173.3107\n",
            "Epoch 52/100\n",
            "5/5 [==============================] - 0s 19ms/step - loss: 163.2060 - mean_absolute_error: 163.2060 - val_loss: 172.1844 - val_mean_absolute_error: 172.1844\n",
            "Epoch 53/100\n",
            "5/5 [==============================] - 0s 16ms/step - loss: 162.1190 - mean_absolute_error: 162.1190 - val_loss: 170.9688 - val_mean_absolute_error: 170.9688\n",
            "Epoch 54/100\n",
            "5/5 [==============================] - 0s 17ms/step - loss: 160.9130 - mean_absolute_error: 160.9130 - val_loss: 169.6513 - val_mean_absolute_error: 169.6513\n",
            "Epoch 55/100\n",
            "5/5 [==============================] - 0s 18ms/step - loss: 159.6546 - mean_absolute_error: 159.6546 - val_loss: 168.3124 - val_mean_absolute_error: 168.3124\n",
            "Epoch 56/100\n",
            "5/5 [==============================] - 0s 19ms/step - loss: 158.3261 - mean_absolute_error: 158.3261 - val_loss: 166.7529 - val_mean_absolute_error: 166.7529\n",
            "Epoch 57/100\n",
            "5/5 [==============================] - 0s 20ms/step - loss: 156.7751 - mean_absolute_error: 156.7751 - val_loss: 165.0867 - val_mean_absolute_error: 165.0867\n",
            "Epoch 58/100\n",
            "5/5 [==============================] - 0s 18ms/step - loss: 155.0998 - mean_absolute_error: 155.0998 - val_loss: 163.2816 - val_mean_absolute_error: 163.2816\n",
            "Epoch 59/100\n",
            "5/5 [==============================] - 0s 17ms/step - loss: 153.3684 - mean_absolute_error: 153.3684 - val_loss: 161.3206 - val_mean_absolute_error: 161.3206\n",
            "Epoch 60/100\n",
            "5/5 [==============================] - 0s 19ms/step - loss: 151.3289 - mean_absolute_error: 151.3289 - val_loss: 159.2223 - val_mean_absolute_error: 159.2223\n",
            "Epoch 61/100\n",
            "5/5 [==============================] - 0s 17ms/step - loss: 149.2116 - mean_absolute_error: 149.2116 - val_loss: 157.0105 - val_mean_absolute_error: 157.0105\n",
            "Epoch 62/100\n",
            "5/5 [==============================] - 0s 20ms/step - loss: 147.0092 - mean_absolute_error: 147.0092 - val_loss: 154.5657 - val_mean_absolute_error: 154.5657\n",
            "Epoch 63/100\n",
            "5/5 [==============================] - 0s 16ms/step - loss: 144.4974 - mean_absolute_error: 144.4974 - val_loss: 151.9295 - val_mean_absolute_error: 151.9295\n",
            "Epoch 64/100\n",
            "5/5 [==============================] - 0s 19ms/step - loss: 142.0652 - mean_absolute_error: 142.0652 - val_loss: 149.3267 - val_mean_absolute_error: 149.3267\n",
            "Epoch 65/100\n",
            "5/5 [==============================] - 0s 19ms/step - loss: 139.3028 - mean_absolute_error: 139.3028 - val_loss: 146.2464 - val_mean_absolute_error: 146.2464\n",
            "Epoch 66/100\n",
            "5/5 [==============================] - 0s 16ms/step - loss: 136.2143 - mean_absolute_error: 136.2143 - val_loss: 142.9802 - val_mean_absolute_error: 142.9802\n",
            "Epoch 67/100\n",
            "5/5 [==============================] - 0s 17ms/step - loss: 132.9922 - mean_absolute_error: 132.9922 - val_loss: 139.4823 - val_mean_absolute_error: 139.4823\n",
            "Epoch 68/100\n",
            "5/5 [==============================] - 0s 15ms/step - loss: 129.5974 - mean_absolute_error: 129.5974 - val_loss: 135.7706 - val_mean_absolute_error: 135.7706\n",
            "Epoch 69/100\n",
            "5/5 [==============================] - 0s 17ms/step - loss: 126.0156 - mean_absolute_error: 126.0156 - val_loss: 131.6522 - val_mean_absolute_error: 131.6522\n",
            "Epoch 70/100\n",
            "5/5 [==============================] - 0s 17ms/step - loss: 121.8830 - mean_absolute_error: 121.8830 - val_loss: 127.2241 - val_mean_absolute_error: 127.2241\n",
            "Epoch 71/100\n",
            "5/5 [==============================] - 0s 15ms/step - loss: 117.6724 - mean_absolute_error: 117.6724 - val_loss: 122.4667 - val_mean_absolute_error: 122.4667\n",
            "Epoch 72/100\n",
            "5/5 [==============================] - 0s 19ms/step - loss: 113.0634 - mean_absolute_error: 113.0634 - val_loss: 117.6358 - val_mean_absolute_error: 117.6358\n",
            "Epoch 73/100\n",
            "5/5 [==============================] - 0s 19ms/step - loss: 108.2927 - mean_absolute_error: 108.2927 - val_loss: 112.3858 - val_mean_absolute_error: 112.3858\n",
            "Epoch 74/100\n",
            "5/5 [==============================] - 0s 21ms/step - loss: 103.5223 - mean_absolute_error: 103.5223 - val_loss: 106.9481 - val_mean_absolute_error: 106.9481\n",
            "Epoch 75/100\n",
            "5/5 [==============================] - 0s 16ms/step - loss: 98.5489 - mean_absolute_error: 98.5489 - val_loss: 101.2851 - val_mean_absolute_error: 101.2851\n",
            "Epoch 76/100\n",
            "5/5 [==============================] - 0s 21ms/step - loss: 93.1165 - mean_absolute_error: 93.1165 - val_loss: 95.9253 - val_mean_absolute_error: 95.9253\n",
            "Epoch 77/100\n",
            "5/5 [==============================] - 0s 20ms/step - loss: 87.9013 - mean_absolute_error: 87.9013 - val_loss: 89.3238 - val_mean_absolute_error: 89.3238\n",
            "Epoch 78/100\n",
            "5/5 [==============================] - 0s 16ms/step - loss: 83.1203 - mean_absolute_error: 83.1203 - val_loss: 82.4947 - val_mean_absolute_error: 82.4947\n",
            "Epoch 79/100\n",
            "5/5 [==============================] - 0s 16ms/step - loss: 75.4789 - mean_absolute_error: 75.4789 - val_loss: 74.9234 - val_mean_absolute_error: 74.9234\n",
            "Epoch 80/100\n",
            "5/5 [==============================] - 0s 21ms/step - loss: 69.2115 - mean_absolute_error: 69.2115 - val_loss: 67.6554 - val_mean_absolute_error: 67.6554\n",
            "Epoch 81/100\n",
            "5/5 [==============================] - 0s 20ms/step - loss: 62.3489 - mean_absolute_error: 62.3489 - val_loss: 59.3608 - val_mean_absolute_error: 59.3608\n",
            "Epoch 82/100\n",
            "5/5 [==============================] - 0s 23ms/step - loss: 53.9654 - mean_absolute_error: 53.9654 - val_loss: 50.7619 - val_mean_absolute_error: 50.7619\n",
            "Epoch 83/100\n",
            "5/5 [==============================] - 0s 19ms/step - loss: 47.8290 - mean_absolute_error: 47.8290 - val_loss: 42.0291 - val_mean_absolute_error: 42.0291\n",
            "Epoch 84/100\n",
            "5/5 [==============================] - 0s 15ms/step - loss: 39.4753 - mean_absolute_error: 39.4753 - val_loss: 32.7102 - val_mean_absolute_error: 32.7102\n",
            "Epoch 85/100\n",
            "5/5 [==============================] - 0s 18ms/step - loss: 34.6269 - mean_absolute_error: 34.6269 - val_loss: 25.3774 - val_mean_absolute_error: 25.3774\n",
            "Epoch 86/100\n",
            "5/5 [==============================] - 0s 16ms/step - loss: 32.2693 - mean_absolute_error: 32.2693 - val_loss: 16.5537 - val_mean_absolute_error: 16.5537\n",
            "Epoch 87/100\n",
            "5/5 [==============================] - 0s 16ms/step - loss: 20.9911 - mean_absolute_error: 20.9911 - val_loss: 10.3810 - val_mean_absolute_error: 10.3810\n",
            "Epoch 88/100\n",
            "5/5 [==============================] - 0s 20ms/step - loss: 11.3837 - mean_absolute_error: 11.3837 - val_loss: 2.4997 - val_mean_absolute_error: 2.4997\n",
            "Epoch 89/100\n",
            "5/5 [==============================] - 0s 20ms/step - loss: 18.4586 - mean_absolute_error: 18.4586 - val_loss: 2.4842 - val_mean_absolute_error: 2.4842\n",
            "Epoch 90/100\n",
            "5/5 [==============================] - 0s 18ms/step - loss: 15.1292 - mean_absolute_error: 15.1292 - val_loss: 1.7591 - val_mean_absolute_error: 1.7591\n",
            "Epoch 91/100\n",
            "5/5 [==============================] - 0s 20ms/step - loss: 17.9402 - mean_absolute_error: 17.9402 - val_loss: 6.1171 - val_mean_absolute_error: 6.1171\n",
            "Epoch 92/100\n",
            "5/5 [==============================] - 0s 11ms/step - loss: 7.2443 - mean_absolute_error: 7.2443 - val_loss: 1.7073 - val_mean_absolute_error: 1.7073\n",
            "Epoch 93/100\n",
            "5/5 [==============================] - 0s 13ms/step - loss: 15.7680 - mean_absolute_error: 15.7680 - val_loss: 2.5912 - val_mean_absolute_error: 2.5912\n",
            "Epoch 94/100\n",
            "5/5 [==============================] - 0s 10ms/step - loss: 20.6356 - mean_absolute_error: 20.6356 - val_loss: 1.9125 - val_mean_absolute_error: 1.9125\n",
            "Epoch 95/100\n",
            "5/5 [==============================] - 0s 15ms/step - loss: 25.1050 - mean_absolute_error: 25.1050 - val_loss: 3.3123 - val_mean_absolute_error: 3.3123\n",
            "Epoch 96/100\n",
            "5/5 [==============================] - 0s 10ms/step - loss: 11.3872 - mean_absolute_error: 11.3872 - val_loss: 3.5239 - val_mean_absolute_error: 3.5239\n",
            "Epoch 97/100\n",
            "5/5 [==============================] - 0s 13ms/step - loss: 18.8563 - mean_absolute_error: 18.8563 - val_loss: 4.1010 - val_mean_absolute_error: 4.1010\n",
            "Epoch 98/100\n",
            "5/5 [==============================] - 0s 15ms/step - loss: 10.5657 - mean_absolute_error: 10.5657 - val_loss: 3.3825 - val_mean_absolute_error: 3.3825\n",
            "Epoch 99/100\n",
            "5/5 [==============================] - 0s 14ms/step - loss: 18.1983 - mean_absolute_error: 18.1983 - val_loss: 5.3600 - val_mean_absolute_error: 5.3600\n",
            "Epoch 100/100\n",
            "5/5 [==============================] - 0s 10ms/step - loss: 14.4992 - mean_absolute_error: 14.4992 - val_loss: 2.8020 - val_mean_absolute_error: 2.8020\n"
          ]
        }
      ]
    },
    {
      "cell_type": "markdown",
      "source": [
        "## Model Evaluation"
      ],
      "metadata": {
        "id": "0F5-AhW59Y44"
      }
    },
    {
      "cell_type": "code",
      "source": [
        "plt.plot(exp_model_1_history.history[\"loss\"])\n",
        "plt.plot(exp_model_1_history.history[\"val_loss\"])\n",
        "plt.legend([\"Training Loss\", \"Validation Loss\"]);"
      ],
      "metadata": {
        "colab": {
          "base_uri": "https://localhost:8080/",
          "height": 430
        },
        "id": "Oz_bWN6XPmzP",
        "outputId": "cc8e726d-f667-401a-bdf9-0f0fe0d15e98"
      },
      "execution_count": null,
      "outputs": [
        {
          "output_type": "display_data",
          "data": {
            "text/plain": [
              "<Figure size 640x480 with 1 Axes>"
            ],
            "image/png": "[encoded data removed]"
          },
          "metadata": {}
        }
      ]
    },
    {
      "cell_type": "code",
      "source": [
        "exp_model_1_preds = exp_model_1.predict(tf.expand_dims(X_val, axis=-1))"
      ],
      "metadata": {
        "colab": {
          "base_uri": "https://localhost:8080/"
        },
        "id": "e_s-2qW89bBl",
        "outputId": "432d4c91-d658-43a7-a0b4-4ca571c08bd0"
      },
      "execution_count": null,
      "outputs": [
        {
          "output_type": "stream",
          "name": "stdout",
          "text": [
            "1/1 [==============================] - 0s 66ms/step\n"
          ]
        }
      ]
    },
    {
      "cell_type": "code",
      "source": [
        "plot_predictions(X_train, y_train,\n",
        "                 X_val, y_val,\n",
        "                 X_val, exp_model_1_preds)"
      ],
      "metadata": {
        "colab": {
          "base_uri": "https://localhost:8080/",
          "height": 641
        },
        "id": "xqyaYIfa9Rvq",
        "outputId": "10fc0140-f9e5-46f5-b6fa-d45e6ba537fe"
      },
      "execution_count": null,
      "outputs": [
        {
          "output_type": "display_data",
          "data": {
            "text/plain": [
              "<Figure size 1000x700 with 1 Axes>"
            ],
            "image/png": "[encoded data removed]"
          },
          "metadata": {}
        }
      ]
    },
    {
      "cell_type": "code",
      "source": [
        "model_1_results = evaluate_regression(y_val, exp_model_1_preds)"
      ],
      "metadata": {
        "id": "NjUAwHLe_C-9"
      },
      "execution_count": null,
      "outputs": []
    },
    {
      "cell_type": "markdown",
      "source": [
        "# ` Experiment: model_2 `"
      ],
      "metadata": {
        "id": "Jp8INmQ3EDrC"
      }
    },
    {
      "cell_type": "markdown",
      "source": [
        "## Data Creation"
      ],
      "metadata": {
        "id": "qhM9C-uFEGtF"
      }
    },
    {
      "cell_type": "code",
      "source": [
        "tf.random.set_seed(42)\n",
        "\n",
        "X = tf.range(-100, 300,2)\n",
        "y = X + 100\n",
        "\n",
        "X_train, X_test, y_train, y_test, X_val, y_val = divide_to_sets(X, y, val_cut=0.1, test_cut=0.30)"
      ],
      "metadata": {
        "id": "aWSI31iPEL66"
      },
      "execution_count": null,
      "outputs": []
    },
    {
      "cell_type": "markdown",
      "source": [
        "## Modelling"
      ],
      "metadata": {
        "id": "Iqj24YVZEG7s"
      }
    },
    {
      "cell_type": "code",
      "source": [
        "tf.random.set_seed(42)\n",
        "exp_model_2 = tf.keras.Sequential([\n",
        "    tf.keras.layers.BatchNormalization(),\n",
        "    tf.keras.layers.Dense(10, name=\"FC_Layer_1\"),\n",
        "    tf.keras.layers.BatchNormalization(),\n",
        "    tf.keras.layers.Dense(1, name=\"FC_Layer_2\")\n",
        "], name=\"experiment_model_2\")\n",
        "\n",
        "\n",
        "exp_model_2.compile(loss=tf.keras.losses.mean_absolute_error,\n",
        "                    optimizer=tf.keras.optimizers.SGD(),\n",
        "                    metrics=tf.metrics.mean_absolute_error)\n",
        "\n",
        "exp_model_2_history = exp_model_2.fit(tf.expand_dims(X_train, axis=-1), y_train,\n",
        "                validation_data=(tf.expand_dims(X_test, axis=-1), y_test),\n",
        "                epochs=100,\n",
        "                verbose=1)"
      ],
      "metadata": {
        "colab": {
          "base_uri": "https://localhost:8080/"
        },
        "id": "NN9mr3ObEMQ2",
        "outputId": "035c1c6e-0f0a-4f3a-a52c-742d20e625a2"
      },
      "execution_count": null,
      "outputs": [
        {
          "output_type": "stream",
          "name": "stdout",
          "text": [
            "Epoch 1/100\n",
            "4/4 [==============================] - 2s 163ms/step - loss: 180.9471 - mean_absolute_error: 180.9471 - val_loss: 176.1071 - val_mean_absolute_error: 176.1071\n",
            "Epoch 2/100\n",
            "4/4 [==============================] - 0s 26ms/step - loss: 180.8707 - mean_absolute_error: 180.8707 - val_loss: 175.4703 - val_mean_absolute_error: 175.4703\n",
            "Epoch 3/100\n",
            "4/4 [==============================] - 0s 27ms/step - loss: 180.7789 - mean_absolute_error: 180.7789 - val_loss: 175.1243 - val_mean_absolute_error: 175.1243\n",
            "Epoch 4/100\n",
            "4/4 [==============================] - 0s 27ms/step - loss: 180.6882 - mean_absolute_error: 180.6882 - val_loss: 174.8777 - val_mean_absolute_error: 174.8777\n",
            "Epoch 5/100\n",
            "4/4 [==============================] - 0s 29ms/step - loss: 180.5950 - mean_absolute_error: 180.5950 - val_loss: 174.6788 - val_mean_absolute_error: 174.6788\n",
            "Epoch 6/100\n",
            "4/4 [==============================] - 0s 26ms/step - loss: 180.5011 - mean_absolute_error: 180.5011 - val_loss: 174.5066 - val_mean_absolute_error: 174.5066\n",
            "Epoch 7/100\n",
            "4/4 [==============================] - 0s 30ms/step - loss: 180.4125 - mean_absolute_error: 180.4125 - val_loss: 174.3499 - val_mean_absolute_error: 174.3499\n",
            "Epoch 8/100\n",
            "4/4 [==============================] - 0s 29ms/step - loss: 180.3240 - mean_absolute_error: 180.3240 - val_loss: 174.2022 - val_mean_absolute_error: 174.2022\n",
            "Epoch 9/100\n",
            "4/4 [==============================] - 0s 19ms/step - loss: 180.2181 - mean_absolute_error: 180.2181 - val_loss: 174.0617 - val_mean_absolute_error: 174.0617\n",
            "Epoch 10/100\n",
            "4/4 [==============================] - 0s 15ms/step - loss: 180.1124 - mean_absolute_error: 180.1124 - val_loss: 173.9260 - val_mean_absolute_error: 173.9260\n",
            "Epoch 11/100\n",
            "4/4 [==============================] - 0s 19ms/step - loss: 180.0255 - mean_absolute_error: 180.0255 - val_loss: 173.7902 - val_mean_absolute_error: 173.7902\n",
            "Epoch 12/100\n",
            "4/4 [==============================] - 0s 15ms/step - loss: 179.9124 - mean_absolute_error: 179.9124 - val_loss: 173.6561 - val_mean_absolute_error: 173.6561\n",
            "Epoch 13/100\n",
            "4/4 [==============================] - 0s 14ms/step - loss: 179.8044 - mean_absolute_error: 179.8044 - val_loss: 173.5221 - val_mean_absolute_error: 173.5221\n",
            "Epoch 14/100\n",
            "4/4 [==============================] - 0s 19ms/step - loss: 179.6961 - mean_absolute_error: 179.6961 - val_loss: 173.3862 - val_mean_absolute_error: 173.3862\n",
            "Epoch 15/100\n",
            "4/4 [==============================] - 0s 14ms/step - loss: 179.5831 - mean_absolute_error: 179.5831 - val_loss: 173.2468 - val_mean_absolute_error: 173.2468\n",
            "Epoch 16/100\n",
            "4/4 [==============================] - 0s 18ms/step - loss: 179.4638 - mean_absolute_error: 179.4638 - val_loss: 173.1036 - val_mean_absolute_error: 173.1036\n",
            "Epoch 17/100\n",
            "4/4 [==============================] - 0s 20ms/step - loss: 179.3360 - mean_absolute_error: 179.3360 - val_loss: 172.9565 - val_mean_absolute_error: 172.9565\n",
            "Epoch 18/100\n",
            "4/4 [==============================] - 0s 20ms/step - loss: 179.2092 - mean_absolute_error: 179.2092 - val_loss: 172.8043 - val_mean_absolute_error: 172.8043\n",
            "Epoch 19/100\n",
            "4/4 [==============================] - 0s 15ms/step - loss: 179.0894 - mean_absolute_error: 179.0894 - val_loss: 172.6452 - val_mean_absolute_error: 172.6452\n",
            "Epoch 20/100\n",
            "4/4 [==============================] - 0s 19ms/step - loss: 178.9243 - mean_absolute_error: 178.9243 - val_loss: 172.4810 - val_mean_absolute_error: 172.4810\n",
            "Epoch 21/100\n",
            "4/4 [==============================] - 0s 19ms/step - loss: 178.7691 - mean_absolute_error: 178.7691 - val_loss: 172.3096 - val_mean_absolute_error: 172.3096\n",
            "Epoch 22/100\n",
            "4/4 [==============================] - 0s 16ms/step - loss: 178.6200 - mean_absolute_error: 178.6200 - val_loss: 172.1293 - val_mean_absolute_error: 172.1293\n",
            "Epoch 23/100\n",
            "4/4 [==============================] - 0s 18ms/step - loss: 178.4482 - mean_absolute_error: 178.4482 - val_loss: 171.9399 - val_mean_absolute_error: 171.9399\n",
            "Epoch 24/100\n",
            "4/4 [==============================] - 0s 20ms/step - loss: 178.2722 - mean_absolute_error: 178.2722 - val_loss: 171.7404 - val_mean_absolute_error: 171.7404\n",
            "Epoch 25/100\n",
            "4/4 [==============================] - 0s 14ms/step - loss: 178.0841 - mean_absolute_error: 178.0841 - val_loss: 171.5373 - val_mean_absolute_error: 171.5373\n",
            "Epoch 26/100\n",
            "4/4 [==============================] - 0s 19ms/step - loss: 177.8873 - mean_absolute_error: 177.8873 - val_loss: 171.3221 - val_mean_absolute_error: 171.3221\n",
            "Epoch 27/100\n",
            "4/4 [==============================] - 0s 19ms/step - loss: 177.6846 - mean_absolute_error: 177.6846 - val_loss: 171.0922 - val_mean_absolute_error: 171.0922\n",
            "Epoch 28/100\n",
            "4/4 [==============================] - 0s 19ms/step - loss: 177.4418 - mean_absolute_error: 177.4418 - val_loss: 170.8430 - val_mean_absolute_error: 170.8430\n",
            "Epoch 29/100\n",
            "4/4 [==============================] - 0s 20ms/step - loss: 177.1758 - mean_absolute_error: 177.1758 - val_loss: 170.5830 - val_mean_absolute_error: 170.5830\n",
            "Epoch 30/100\n",
            "4/4 [==============================] - 0s 15ms/step - loss: 176.9059 - mean_absolute_error: 176.9059 - val_loss: 170.3097 - val_mean_absolute_error: 170.3097\n",
            "Epoch 31/100\n",
            "4/4 [==============================] - 0s 15ms/step - loss: 176.6319 - mean_absolute_error: 176.6319 - val_loss: 170.0188 - val_mean_absolute_error: 170.0188\n",
            "Epoch 32/100\n",
            "4/4 [==============================] - 0s 22ms/step - loss: 176.3340 - mean_absolute_error: 176.3340 - val_loss: 169.7124 - val_mean_absolute_error: 169.7124\n",
            "Epoch 33/100\n",
            "4/4 [==============================] - 0s 20ms/step - loss: 176.0266 - mean_absolute_error: 176.0266 - val_loss: 169.3867 - val_mean_absolute_error: 169.3867\n",
            "Epoch 34/100\n",
            "4/4 [==============================] - 0s 22ms/step - loss: 175.6980 - mean_absolute_error: 175.6980 - val_loss: 169.0389 - val_mean_absolute_error: 169.0389\n",
            "Epoch 35/100\n",
            "4/4 [==============================] - 0s 15ms/step - loss: 175.3551 - mean_absolute_error: 175.3551 - val_loss: 168.6670 - val_mean_absolute_error: 168.6670\n",
            "Epoch 36/100\n",
            "4/4 [==============================] - 0s 13ms/step - loss: 174.9891 - mean_absolute_error: 174.9891 - val_loss: 168.2691 - val_mean_absolute_error: 168.2691\n",
            "Epoch 37/100\n",
            "4/4 [==============================] - 0s 18ms/step - loss: 174.5908 - mean_absolute_error: 174.5908 - val_loss: 167.8441 - val_mean_absolute_error: 167.8441\n",
            "Epoch 38/100\n",
            "4/4 [==============================] - 0s 18ms/step - loss: 174.1608 - mean_absolute_error: 174.1608 - val_loss: 167.3893 - val_mean_absolute_error: 167.3893\n",
            "Epoch 39/100\n",
            "4/4 [==============================] - 0s 19ms/step - loss: 173.7166 - mean_absolute_error: 173.7166 - val_loss: 166.9085 - val_mean_absolute_error: 166.9085\n",
            "Epoch 40/100\n",
            "4/4 [==============================] - 0s 19ms/step - loss: 173.2394 - mean_absolute_error: 173.2394 - val_loss: 166.3945 - val_mean_absolute_error: 166.3945\n",
            "Epoch 41/100\n",
            "4/4 [==============================] - 0s 20ms/step - loss: 172.7281 - mean_absolute_error: 172.7281 - val_loss: 165.8448 - val_mean_absolute_error: 165.8448\n",
            "Epoch 42/100\n",
            "4/4 [==============================] - 0s 19ms/step - loss: 172.1837 - mean_absolute_error: 172.1837 - val_loss: 165.2559 - val_mean_absolute_error: 165.2559\n",
            "Epoch 43/100\n",
            "4/4 [==============================] - 0s 14ms/step - loss: 171.6085 - mean_absolute_error: 171.6085 - val_loss: 164.6339 - val_mean_absolute_error: 164.6339\n",
            "Epoch 44/100\n",
            "4/4 [==============================] - 0s 19ms/step - loss: 170.9993 - mean_absolute_error: 170.9993 - val_loss: 163.9675 - val_mean_absolute_error: 163.9675\n",
            "Epoch 45/100\n",
            "4/4 [==============================] - 0s 14ms/step - loss: 170.3431 - mean_absolute_error: 170.3431 - val_loss: 163.2547 - val_mean_absolute_error: 163.2547\n",
            "Epoch 46/100\n",
            "4/4 [==============================] - 0s 16ms/step - loss: 169.6484 - mean_absolute_error: 169.6484 - val_loss: 162.5033 - val_mean_absolute_error: 162.5033\n",
            "Epoch 47/100\n",
            "4/4 [==============================] - 0s 14ms/step - loss: 168.9198 - mean_absolute_error: 168.9198 - val_loss: 161.6977 - val_mean_absolute_error: 161.6977\n",
            "Epoch 48/100\n",
            "4/4 [==============================] - 0s 18ms/step - loss: 168.1388 - mean_absolute_error: 168.1388 - val_loss: 160.8348 - val_mean_absolute_error: 160.8348\n",
            "Epoch 49/100\n",
            "4/4 [==============================] - 0s 14ms/step - loss: 167.3038 - mean_absolute_error: 167.3038 - val_loss: 159.9248 - val_mean_absolute_error: 159.9248\n",
            "Epoch 50/100\n",
            "4/4 [==============================] - 0s 14ms/step - loss: 166.4295 - mean_absolute_error: 166.4295 - val_loss: 158.9510 - val_mean_absolute_error: 158.9510\n",
            "Epoch 51/100\n",
            "4/4 [==============================] - 0s 19ms/step - loss: 165.4980 - mean_absolute_error: 165.4980 - val_loss: 157.9088 - val_mean_absolute_error: 157.9088\n",
            "Epoch 52/100\n",
            "4/4 [==============================] - 0s 16ms/step - loss: 164.4772 - mean_absolute_error: 164.4772 - val_loss: 156.7904 - val_mean_absolute_error: 156.7904\n",
            "Epoch 53/100\n",
            "4/4 [==============================] - 0s 23ms/step - loss: 163.4281 - mean_absolute_error: 163.4281 - val_loss: 155.6301 - val_mean_absolute_error: 155.6301\n",
            "Epoch 54/100\n",
            "4/4 [==============================] - 0s 15ms/step - loss: 162.3161 - mean_absolute_error: 162.3161 - val_loss: 154.4086 - val_mean_absolute_error: 154.4086\n",
            "Epoch 55/100\n",
            "4/4 [==============================] - 0s 21ms/step - loss: 161.1248 - mean_absolute_error: 161.1248 - val_loss: 153.1003 - val_mean_absolute_error: 153.1003\n",
            "Epoch 56/100\n",
            "4/4 [==============================] - 0s 16ms/step - loss: 159.8552 - mean_absolute_error: 159.8552 - val_loss: 151.7184 - val_mean_absolute_error: 151.7184\n",
            "Epoch 57/100\n",
            "4/4 [==============================] - 0s 14ms/step - loss: 158.4519 - mean_absolute_error: 158.4519 - val_loss: 150.2380 - val_mean_absolute_error: 150.2380\n",
            "Epoch 58/100\n",
            "4/4 [==============================] - 0s 17ms/step - loss: 157.0355 - mean_absolute_error: 157.0355 - val_loss: 148.6779 - val_mean_absolute_error: 148.6779\n",
            "Epoch 59/100\n",
            "4/4 [==============================] - 0s 16ms/step - loss: 155.5055 - mean_absolute_error: 155.5055 - val_loss: 147.0077 - val_mean_absolute_error: 147.0077\n",
            "Epoch 60/100\n",
            "4/4 [==============================] - 0s 14ms/step - loss: 153.9040 - mean_absolute_error: 153.9040 - val_loss: 145.2495 - val_mean_absolute_error: 145.2495\n",
            "Epoch 61/100\n",
            "4/4 [==============================] - 0s 15ms/step - loss: 152.2355 - mean_absolute_error: 152.2355 - val_loss: 143.3690 - val_mean_absolute_error: 143.3690\n",
            "Epoch 62/100\n",
            "4/4 [==============================] - 0s 20ms/step - loss: 150.3956 - mean_absolute_error: 150.3956 - val_loss: 141.3906 - val_mean_absolute_error: 141.3906\n",
            "Epoch 63/100\n",
            "4/4 [==============================] - 0s 21ms/step - loss: 148.5312 - mean_absolute_error: 148.5312 - val_loss: 139.3295 - val_mean_absolute_error: 139.3295\n",
            "Epoch 64/100\n",
            "4/4 [==============================] - 0s 19ms/step - loss: 146.5457 - mean_absolute_error: 146.5457 - val_loss: 137.1733 - val_mean_absolute_error: 137.1733\n",
            "Epoch 65/100\n",
            "4/4 [==============================] - 0s 20ms/step - loss: 144.2984 - mean_absolute_error: 144.2984 - val_loss: 134.8665 - val_mean_absolute_error: 134.8665\n",
            "Epoch 66/100\n",
            "4/4 [==============================] - 0s 19ms/step - loss: 142.0033 - mean_absolute_error: 142.0033 - val_loss: 132.4333 - val_mean_absolute_error: 132.4333\n",
            "Epoch 67/100\n",
            "4/4 [==============================] - 0s 21ms/step - loss: 139.5083 - mean_absolute_error: 139.5083 - val_loss: 129.8574 - val_mean_absolute_error: 129.8574\n",
            "Epoch 68/100\n",
            "4/4 [==============================] - 0s 20ms/step - loss: 137.0578 - mean_absolute_error: 137.0578 - val_loss: 127.1206 - val_mean_absolute_error: 127.1206\n",
            "Epoch 69/100\n",
            "4/4 [==============================] - 0s 20ms/step - loss: 134.2753 - mean_absolute_error: 134.2753 - val_loss: 124.2251 - val_mean_absolute_error: 124.2251\n",
            "Epoch 70/100\n",
            "4/4 [==============================] - 0s 15ms/step - loss: 131.4680 - mean_absolute_error: 131.4680 - val_loss: 121.1709 - val_mean_absolute_error: 121.1709\n",
            "Epoch 71/100\n",
            "4/4 [==============================] - 0s 16ms/step - loss: 128.8781 - mean_absolute_error: 128.8781 - val_loss: 118.0213 - val_mean_absolute_error: 118.0213\n",
            "Epoch 72/100\n",
            "4/4 [==============================] - 0s 25ms/step - loss: 125.4423 - mean_absolute_error: 125.4423 - val_loss: 114.7203 - val_mean_absolute_error: 114.7203\n",
            "Epoch 73/100\n",
            "4/4 [==============================] - 0s 29ms/step - loss: 122.2788 - mean_absolute_error: 122.2788 - val_loss: 111.1369 - val_mean_absolute_error: 111.1369\n",
            "Epoch 74/100\n",
            "4/4 [==============================] - 0s 25ms/step - loss: 118.0752 - mean_absolute_error: 118.0752 - val_loss: 107.3684 - val_mean_absolute_error: 107.3684\n",
            "Epoch 75/100\n",
            "4/4 [==============================] - 0s 25ms/step - loss: 114.0060 - mean_absolute_error: 114.0060 - val_loss: 103.3704 - val_mean_absolute_error: 103.3704\n",
            "Epoch 76/100\n",
            "4/4 [==============================] - 0s 24ms/step - loss: 109.8182 - mean_absolute_error: 109.8182 - val_loss: 99.1675 - val_mean_absolute_error: 99.1675\n",
            "Epoch 77/100\n",
            "4/4 [==============================] - 0s 25ms/step - loss: 105.6871 - mean_absolute_error: 105.6871 - val_loss: 94.7611 - val_mean_absolute_error: 94.7611\n",
            "Epoch 78/100\n",
            "4/4 [==============================] - 0s 26ms/step - loss: 100.8214 - mean_absolute_error: 100.8214 - val_loss: 90.0734 - val_mean_absolute_error: 90.0734\n",
            "Epoch 79/100\n",
            "4/4 [==============================] - 0s 21ms/step - loss: 96.3277 - mean_absolute_error: 96.3277 - val_loss: 85.2584 - val_mean_absolute_error: 85.2584\n",
            "Epoch 80/100\n",
            "4/4 [==============================] - 0s 26ms/step - loss: 90.8479 - mean_absolute_error: 90.8479 - val_loss: 80.0747 - val_mean_absolute_error: 80.0747\n",
            "Epoch 81/100\n",
            "4/4 [==============================] - 0s 26ms/step - loss: 85.5322 - mean_absolute_error: 85.5322 - val_loss: 74.5290 - val_mean_absolute_error: 74.5290\n",
            "Epoch 82/100\n",
            "4/4 [==============================] - 0s 26ms/step - loss: 80.7137 - mean_absolute_error: 80.7137 - val_loss: 68.8188 - val_mean_absolute_error: 68.8188\n",
            "Epoch 83/100\n",
            "4/4 [==============================] - 0s 24ms/step - loss: 75.1824 - mean_absolute_error: 75.1824 - val_loss: 62.6961 - val_mean_absolute_error: 62.6961\n",
            "Epoch 84/100\n",
            "4/4 [==============================] - 0s 22ms/step - loss: 68.0486 - mean_absolute_error: 68.0486 - val_loss: 56.1405 - val_mean_absolute_error: 56.1405\n",
            "Epoch 85/100\n",
            "4/4 [==============================] - 0s 25ms/step - loss: 61.5951 - mean_absolute_error: 61.5951 - val_loss: 49.2997 - val_mean_absolute_error: 49.2997\n",
            "Epoch 86/100\n",
            "4/4 [==============================] - 0s 25ms/step - loss: 54.0846 - mean_absolute_error: 54.0846 - val_loss: 42.0006 - val_mean_absolute_error: 42.0006\n",
            "Epoch 87/100\n",
            "4/4 [==============================] - 0s 22ms/step - loss: 48.8170 - mean_absolute_error: 48.8170 - val_loss: 34.7349 - val_mean_absolute_error: 34.7349\n",
            "Epoch 88/100\n",
            "4/4 [==============================] - 0s 30ms/step - loss: 43.9665 - mean_absolute_error: 43.9665 - val_loss: 27.1596 - val_mean_absolute_error: 27.1596\n",
            "Epoch 89/100\n",
            "4/4 [==============================] - 0s 20ms/step - loss: 32.9697 - mean_absolute_error: 32.9697 - val_loss: 18.5127 - val_mean_absolute_error: 18.5127\n",
            "Epoch 90/100\n",
            "4/4 [==============================] - 0s 28ms/step - loss: 27.7998 - mean_absolute_error: 27.7998 - val_loss: 10.0180 - val_mean_absolute_error: 10.0180\n",
            "Epoch 91/100\n",
            "4/4 [==============================] - 0s 22ms/step - loss: 20.1758 - mean_absolute_error: 20.1758 - val_loss: 1.9279 - val_mean_absolute_error: 1.9279\n",
            "Epoch 92/100\n",
            "4/4 [==============================] - 0s 25ms/step - loss: 28.5547 - mean_absolute_error: 28.5547 - val_loss: 4.7477 - val_mean_absolute_error: 4.7477\n",
            "Epoch 93/100\n",
            "4/4 [==============================] - 0s 27ms/step - loss: 12.7983 - mean_absolute_error: 12.7983 - val_loss: 6.6375 - val_mean_absolute_error: 6.6375\n",
            "Epoch 94/100\n",
            "4/4 [==============================] - 0s 31ms/step - loss: 27.7282 - mean_absolute_error: 27.7282 - val_loss: 6.1267 - val_mean_absolute_error: 6.1267\n",
            "Epoch 95/100\n",
            "4/4 [==============================] - 0s 27ms/step - loss: 14.0705 - mean_absolute_error: 14.0705 - val_loss: 5.7018 - val_mean_absolute_error: 5.7018\n",
            "Epoch 96/100\n",
            "4/4 [==============================] - 0s 24ms/step - loss: 23.6066 - mean_absolute_error: 23.6066 - val_loss: 6.1091 - val_mean_absolute_error: 6.1091\n",
            "Epoch 97/100\n",
            "4/4 [==============================] - 0s 27ms/step - loss: 13.4015 - mean_absolute_error: 13.4015 - val_loss: 9.2596 - val_mean_absolute_error: 9.2596\n",
            "Epoch 98/100\n",
            "4/4 [==============================] - 0s 24ms/step - loss: 14.7163 - mean_absolute_error: 14.7163 - val_loss: 6.7848 - val_mean_absolute_error: 6.7848\n",
            "Epoch 99/100\n",
            "4/4 [==============================] - 0s 22ms/step - loss: 24.4050 - mean_absolute_error: 24.4050 - val_loss: 10.1933 - val_mean_absolute_error: 10.1933\n",
            "Epoch 100/100\n",
            "4/4 [==============================] - 0s 26ms/step - loss: 23.3158 - mean_absolute_error: 23.3158 - val_loss: 9.7192 - val_mean_absolute_error: 9.7192\n"
          ]
        }
      ]
    },
    {
      "cell_type": "code",
      "source": [
        "exp_model_2.summary()"
      ],
      "metadata": {
        "colab": {
          "base_uri": "https://localhost:8080/"
        },
        "id": "-TVNkWwtIyrQ",
        "outputId": "a02c3497-3fd3-470f-eb1b-20c8628abea4"
      },
      "execution_count": null,
      "outputs": [
        {
          "output_type": "stream",
          "name": "stdout",
          "text": [
            "Model: \"experiment_model_2\"\n",
            "_________________________________________________________________\n",
            " Layer (type)                Output Shape              Param #   \n",
            "=================================================================\n",
            " batch_normalization_3 (Batc  (None, 1)                4         \n",
            " hNormalization)                                                 \n",
            "                                                                 \n",
            " FC_Layer_1 (Dense)          (None, 10)                20        \n",
            "                                                                 \n",
            " batch_normalization_4 (Batc  (None, 10)               40        \n",
            " hNormalization)                                                 \n",
            "                                                                 \n",
            " FC_Layer_2 (Dense)          (None, 1)                 11        \n",
            "                                                                 \n",
            "=================================================================\n",
            "Total params: 75\n",
            "Trainable params: 53\n",
            "Non-trainable params: 22\n",
            "_________________________________________________________________\n"
          ]
        }
      ]
    },
    {
      "cell_type": "markdown",
      "source": [
        "## Model Evaluation"
      ],
      "metadata": {
        "id": "8qVOzUs7EHF_"
      }
    },
    {
      "cell_type": "code",
      "source": [
        "plt.plot(exp_model_2_history.history[\"loss\"])\n",
        "plt.plot(exp_model_2_history.history[\"val_loss\"])\n",
        "plt.legend([\"Training Loss\", \"Validation Loss\"]);"
      ],
      "metadata": {
        "colab": {
          "base_uri": "https://localhost:8080/",
          "height": 430
        },
        "id": "31q6q8iKPeRC",
        "outputId": "cf0c888f-29db-40d6-a019-81d2169b5bee"
      },
      "execution_count": null,
      "outputs": [
        {
          "output_type": "display_data",
          "data": {
            "text/plain": [
              "<Figure size 640x480 with 1 Axes>"
            ],
            "image/png": "[encoded data removed]"
          },
          "metadata": {}
        }
      ]
    },
    {
      "cell_type": "code",
      "source": [
        "exp_model_2_preds = exp_model_2.predict(X_val)"
      ],
      "metadata": {
        "colab": {
          "base_uri": "https://localhost:8080/"
        },
        "id": "na0xH7OdEMrC",
        "outputId": "f80a5244-71fe-4db4-bfd9-8a1d3ebbdefc"
      },
      "execution_count": null,
      "outputs": [
        {
          "output_type": "stream",
          "name": "stdout",
          "text": [
            "1/1 [==============================] - 0s 112ms/step\n"
          ]
        }
      ]
    },
    {
      "cell_type": "code",
      "source": [
        "plot_predictions(X_train, y_train,\n",
        "                 X_val, y_val,\n",
        "                 X_val, tf.squeeze(exp_model_2_preds))"
      ],
      "metadata": {
        "colab": {
          "base_uri": "https://localhost:8080/",
          "height": 641
        },
        "id": "2hyz5Mp_E8bw",
        "outputId": "17ea1704-247f-4022-eefd-4457ec209ef9"
      },
      "execution_count": null,
      "outputs": [
        {
          "output_type": "display_data",
          "data": {
            "text/plain": [
              "<Figure size 1000x700 with 1 Axes>"
            ],
            "image/png": "[encoded data removed]"
          },
          "metadata": {}
        }
      ]
    },
    {
      "cell_type": "code",
      "source": [
        "model_2_results = evaluate_regression(y_val, exp_model_2_preds)"
      ],
      "metadata": {
        "id": "c7FzVo-JE8k-"
      },
      "execution_count": null,
      "outputs": []
    },
    {
      "cell_type": "markdown",
      "source": [
        "# Saving Models\n"
      ],
      "metadata": {
        "id": "5FvwZKKEaSYR"
      }
    },
    {
      "cell_type": "code",
      "source": [
        "model_results = pd.concat([model_1_results, model_2_results],\n",
        "                          axis=0,\n",
        "                          keys=(\"model_1_results\", \"model_2_results\"))\n",
        "\n",
        "model_results.sort_values(by=\"rmse\", ascending=True)"
      ],
      "metadata": {
        "colab": {
          "base_uri": "https://localhost:8080/",
          "height": 112
        },
        "id": "TW_ugE2Aab5B",
        "outputId": "60ca657f-29f2-4744-b86a-971264386f60"
      },
      "execution_count": null,
      "outputs": [
        {
          "output_type": "execute_result",
          "data": {
            "text/plain": [
              "                         mae         mse       rmse\n",
              "model_1_results 0   6.449922   41.768623   6.462865\n",
              "model_2_results 0  24.959787  624.552734  24.991053"
            ],
            "text/html": [
              "\n",
              "\n",
              "  <div id=\"df-dfaf9f26-0360-4049-aafb-abfef8a60a78\">\n",
              "    <div class=\"colab-df-container\">\n",
              "      <div>\n",
              "<style scoped>\n",
              "    .dataframe tbody tr th:only-of-type {\n",
              "        vertical-align: middle;\n",
              "    }\n",
              "\n",
              "    .dataframe tbody tr th {\n",
              "        vertical-align: top;\n",
              "    }\n",
              "\n",
              "    .dataframe thead th {\n",
              "        text-align: right;\n",
              "    }\n",
              "</style>\n",
              "<table border=\"1\" class=\"dataframe\">\n",
              "  <thead>\n",
              "    <tr style=\"text-align: right;\">\n",
              "      <th></th>\n",
              "      <th></th>\n",
              "      <th>mae</th>\n",
              "      <th>mse</th>\n",
              "      <th>rmse</th>\n",
              "    </tr>\n",
              "  </thead>\n",
              "  <tbody>\n",
              "    <tr>\n",
              "      <th>model_1_results</th>\n",
              "      <th>0</th>\n",
              "      <td>6.449922</td>\n",
              "      <td>41.768623</td>\n",
              "      <td>6.462865</td>\n",
              "    </tr>\n",
              "    <tr>\n",
              "      <th>model_2_results</th>\n",
              "      <th>0</th>\n",
              "      <td>24.959787</td>\n",
              "      <td>624.552734</td>\n",
              "      <td>24.991053</td>\n",
              "    </tr>\n",
              "  </tbody>\n",
              "</table>\n",
              "</div>\n",
              "      <button class=\"colab-df-convert\" onclick=\"convertToInteractive('df-dfaf9f26-0360-4049-aafb-abfef8a60a78')\"\n",
              "              title=\"Convert this dataframe to an interactive table.\"\n",
              "              style=\"display:none;\">\n",
              "\n",
              "  <svg xmlns=\"http://www.w3.org/2000/svg\" height=\"24px\"viewBox=\"0 0 24 24\"\n",
              "       width=\"24px\">\n",
              "    <path d=\"M0 0h24v24H0V0z\" fill=\"none\"/>\n",
              "    <path d=\"M18.56 5.44l.94 2.06.94-2.06 2.06-.94-2.06-.94-.94-2.06-.94 2.06-2.06.94zm-11 1L8.5 8.5l.94-2.06 2.06-.94-2.06-.94L8.5 2.5l-.94 2.06-2.06.94zm10 10l.94 2.06.94-2.06 2.06-.94-2.06-.94-.94-2.06-.94 2.06-2.06.94z\"/><path d=\"M17.41 7.96l-1.37-1.37c-.4-.4-.92-.59-1.43-.59-.52 0-1.04.2-1.43.59L10.3 9.45l-7.72 7.72c-.78.78-.78 2.05 0 2.83L4 21.41c.39.39.9.59 1.41.59.51 0 1.02-.2 1.41-.59l7.78-7.78 2.81-2.81c.8-.78.8-2.07 0-2.86zM5.41 20L4 18.59l7.72-7.72 1.47 1.35L5.41 20z\"/>\n",
              "  </svg>\n",
              "      </button>\n",
              "\n",
              "\n",
              "\n",
              "    <div id=\"df-08cbd01c-be1d-48af-84ee-b3d303d442c6\">\n",
              "      <button class=\"colab-df-quickchart\" onclick=\"quickchart('df-08cbd01c-be1d-48af-84ee-b3d303d442c6')\"\n",
              "              title=\"Suggest charts.\"\n",
              "              style=\"display:none;\">\n",
              "\n",
              "<svg xmlns=\"http://www.w3.org/2000/svg\" height=\"24px\"viewBox=\"0 0 24 24\"\n",
              "     width=\"24px\">\n",
              "    <g>\n",
              "        <path d=\"M19 3H5c-1.1 0-2 .9-2 2v14c0 1.1.9 2 2 2h14c1.1 0 2-.9 2-2V5c0-1.1-.9-2-2-2zM9 17H7v-7h2v7zm4 0h-2V7h2v10zm4 0h-2v-4h2v4z\"/>\n",
              "    </g>\n",
              "</svg>\n",
              "      </button>\n",
              "    </div>\n",
              "\n",
              "<style>\n",
              "  .colab-df-quickchart {\n",
              "    background-color: #E8F0FE;\n",
              "    border: none;\n",
              "    border-radius: 50%;\n",
              "    cursor: pointer;\n",
              "    display: none;\n",
              "    fill: #1967D2;\n",
              "    height: 32px;\n",
              "    padding: 0 0 0 0;\n",
              "    width: 32px;\n",
              "  }\n",
              "\n",
              "  .colab-df-quickchart:hover {\n",
              "    background-color: #E2EBFA;\n",
              "    box-shadow: 0px 1px 2px rgba(60, 64, 67, 0.3), 0px 1px 3px 1px rgba(60, 64, 67, 0.15);\n",
              "    fill: #174EA6;\n",
              "  }\n",
              "\n",
              "  [theme=dark] .colab-df-quickchart {\n",
              "    background-color: #3B4455;\n",
              "    fill: #D2E3FC;\n",
              "  }\n",
              "\n",
              "  [theme=dark] .colab-df-quickchart:hover {\n",
              "    background-color: #434B5C;\n",
              "    box-shadow: 0px 1px 3px 1px rgba(0, 0, 0, 0.15);\n",
              "    filter: drop-shadow(0px 1px 2px rgba(0, 0, 0, 0.3));\n",
              "    fill: #FFFFFF;\n",
              "  }\n",
              "</style>\n",
              "\n",
              "    <script>\n",
              "      async function quickchart(key) {\n",
              "        const containerElement = document.querySelector('#' + key);\n",
              "        const charts = await google.colab.kernel.invokeFunction(\n",
              "            'suggestCharts', [key], {});\n",
              "      }\n",
              "    </script>\n",
              "\n",
              "\n",
              "      <script>\n",
              "\n",
              "function displayQuickchartButton(domScope) {\n",
              "  let quickchartButtonEl =\n",
              "    domScope.querySelector('#df-08cbd01c-be1d-48af-84ee-b3d303d442c6 button.colab-df-quickchart');\n",
              "  quickchartButtonEl.style.display =\n",
              "    google.colab.kernel.accessAllowed ? 'block' : 'none';\n",
              "}\n",
              "\n",
              "        displayQuickchartButton(document);\n",
              "      </script>\n",
              "      <style>\n",
              "    .colab-df-container {\n",
              "      display:flex;\n",
              "      flex-wrap:wrap;\n",
              "      gap: 12px;\n",
              "    }\n",
              "\n",
              "    .colab-df-convert {\n",
              "      background-color: #E8F0FE;\n",
              "      border: none;\n",
              "      border-radius: 50%;\n",
              "      cursor: pointer;\n",
              "      display: none;\n",
              "      fill: #1967D2;\n",
              "      height: 32px;\n",
              "      padding: 0 0 0 0;\n",
              "      width: 32px;\n",
              "    }\n",
              "\n",
              "    .colab-df-convert:hover {\n",
              "      background-color: #E2EBFA;\n",
              "      box-shadow: 0px 1px 2px rgba(60, 64, 67, 0.3), 0px 1px 3px 1px rgba(60, 64, 67, 0.15);\n",
              "      fill: #174EA6;\n",
              "    }\n",
              "\n",
              "    [theme=dark] .colab-df-convert {\n",
              "      background-color: #3B4455;\n",
              "      fill: #D2E3FC;\n",
              "    }\n",
              "\n",
              "    [theme=dark] .colab-df-convert:hover {\n",
              "      background-color: #434B5C;\n",
              "      box-shadow: 0px 1px 3px 1px rgba(0, 0, 0, 0.15);\n",
              "      filter: drop-shadow(0px 1px 2px rgba(0, 0, 0, 0.3));\n",
              "      fill: #FFFFFF;\n",
              "    }\n",
              "  </style>\n",
              "\n",
              "      <script>\n",
              "        const buttonEl =\n",
              "          document.querySelector('#df-dfaf9f26-0360-4049-aafb-abfef8a60a78 button.colab-df-convert');\n",
              "        buttonEl.style.display =\n",
              "          google.colab.kernel.accessAllowed ? 'block' : 'none';\n",
              "\n",
              "        async function convertToInteractive(key) {\n",
              "          const element = document.querySelector('#df-dfaf9f26-0360-4049-aafb-abfef8a60a78');\n",
              "          const dataTable =\n",
              "            await google.colab.kernel.invokeFunction('convertToInteractive',\n",
              "                                                     [key], {});\n",
              "          if (!dataTable) return;\n",
              "\n",
              "          const docLinkHtml = 'Like what you see? Visit the ' +\n",
              "            '<a target=\"_blank\" href=https://colab.research.google.com/notebooks/data_table.ipynb>data table notebook</a>'\n",
              "            + ' to learn more about interactive tables.';\n",
              "          element.innerHTML = '';\n",
              "          dataTable['output_type'] = 'display_data';\n",
              "          await google.colab.output.renderOutput(dataTable, element);\n",
              "          const docLink = document.createElement('div');\n",
              "          docLink.innerHTML = docLinkHtml;\n",
              "          element.appendChild(docLink);\n",
              "        }\n",
              "      </script>\n",
              "    </div>\n",
              "  </div>\n"
            ]
          },
          "metadata": {},
          "execution_count": 402
        }
      ]
    },
    {
      "cell_type": "code",
      "source": [
        "# save the best model\n",
        "exp_model_1.save(f\"best_regression_model_{round(float(model_1_results['rmse'][0]),3)}.h5\")"
      ],
      "metadata": {
        "id": "AFiC_3bJc25F"
      },
      "execution_count": null,
      "outputs": []
    },
    {
      "cell_type": "code",
      "source": [
        "try:\n",
        "    best_regression_model = tf.keras.models.load_model(\"/content/best_regression_model_6.463.h5\")\n",
        "    if best_regression_model:\n",
        "      print(\"Model Loaded Successfuly\", \"\\n\")\n",
        "\n",
        "      best_regression_model.summary()\n",
        "except FileNotFoundError as e:\n",
        "    print(f\"\\nModel Not Found: {e}\")"
      ],
      "metadata": {
        "colab": {
          "base_uri": "https://localhost:8080/"
        },
        "id": "gU5GXeawj2ju",
        "outputId": "3a6d2223-c3e4-4478-c620-3716ad2f1b02"
      },
      "execution_count": null,
      "outputs": [
        {
          "output_type": "stream",
          "name": "stdout",
          "text": [
            "Model Loaded Successfuly \n",
            "\n",
            "Model: \"experiment_model_1\"\n",
            "_________________________________________________________________\n",
            " Layer (type)                Output Shape              Param #   \n",
            "=================================================================\n",
            " batch_normalization_2 (Batc  (None, 1)                4         \n",
            " hNormalization)                                                 \n",
            "                                                                 \n",
            " FC_Layer_1 (Dense)          (None, 1)                 2         \n",
            "                                                                 \n",
            "=================================================================\n",
            "Total params: 6\n",
            "Trainable params: 4\n",
            "Non-trainable params: 2\n",
            "_________________________________________________________________\n"
          ]
        }
      ]
    },
    {
      "cell_type": "code",
      "source": [
        "# Double check on the loaded-model\n",
        "loaded_model_preds = best_regression_model.predict(tf.expand_dims(X_val, axis=-1))\n",
        "loaded_model_results = evaluate_regression(y_val, loaded_model_preds)\n",
        "assert loaded_model_results[\"rmse\"][0] == model_1_results[\"rmse\"][0], \"RMSE results are not identical\""
      ],
      "metadata": {
        "colab": {
          "base_uri": "https://localhost:8080/"
        },
        "id": "c5DbOk2iepL6",
        "outputId": "c0d7577a-74fb-49f6-e7c2-26b08b1fa68a"
      },
      "execution_count": null,
      "outputs": [
        {
          "output_type": "stream",
          "name": "stdout",
          "text": [
            "1/1 [==============================] - 0s 65ms/step\n"
          ]
        }
      ]
    }
  ]
}